{
 "cells": [
  {
   "cell_type": "code",
   "execution_count": null,
   "source": [
    "my_urls = [\"https://www.eurogamer.net/articles/2021-09-10-in-defence-of-god-of-wars-thor\",\"https://playcrazygame.com/2021/09/13/ragnarok-explain-the-god-thors-look/\",\"https://codelist.biz/2021/09/13/thor-is-just-as-thick-as-in-avengers-endgame/\"]\n",
    "\n",
    "starts = [\"Last \", \"The revelation\",\"The secret\"]\n",
    "stops = [\"bad joke.\", \"without a defined date.\", \"but also new allies.\"]"
   ],
   "outputs": [],
   "metadata": {}
  },
  {
   "cell_type": "code",
   "execution_count": null,
   "source": [
    "def collect_reviews(my_urls):\n",
    "    contents = \"\"\n",
    "    loc = 0\n",
    "\n",
    "    from urllib.request import urlopen, Request\n",
    " \n",
    "    for url in my_urls:\n",
    "        req = Request(url)\n",
    "        req.add_header('User-Agent', 'Mozilla/5.0 (X11; Ubuntu; Linux x86_64; rv:82.0) Gecko/20100101 Firefox/82.0')\n",
    "        webContents = urlopen(req).read().decode(\"latin-1\")\n",
    "        webContents = str(webContents)\n",
    "        \n",
    "        cleaned = clean_reviews(webContents, starts[loc], stops[loc])\n",
    "        contents += str(cleaned)\n",
    "        loc += 1\n",
    "\n",
    "        contents = contents.replace(\"\\\\n\",\"\")\n",
    "        contents = contents.replace(\"\\\\r\",\"\")\n",
    "        contents = contents.replace(\"\\\\t\",\"\")\n",
    "        \n",
    "        \n",
    "    return contents"
   ],
   "outputs": [],
   "metadata": {}
  },
  {
   "cell_type": "code",
   "execution_count": null,
   "source": [
    "def clean_reviews(contents, start, end):\n",
    "    startLoc = contents.find(start)\n",
    "    endLoc = contents.find(end)\n",
    "    contents = contents[startLoc: endLoc]\n",
    "\n",
    "    inside = 0\n",
    "    text = ''\n",
    "\n",
    "    for char in contents:\n",
    "        if char == '<' or char == '{':\n",
    "            inside = 1\n",
    "        elif (inside == 1 and char == '>' or char == '}'):\n",
    "            inside = 0\n",
    "        elif inside== 1:\n",
    "            continue\n",
    "        else: \n",
    "            text += char\n",
    "\n",
    "    return[text]"
   ],
   "outputs": [],
   "metadata": {}
  },
  {
   "cell_type": "code",
   "execution_count": null,
   "source": [
    "def normalize_text(text):\n",
    "    text = text.lower()\n",
    "    import re\n",
    "    word_bag = re.compile(r'\\W+', re.UNICODE).split(text)\n",
    "    return(word_bag)"
   ],
   "outputs": [],
   "metadata": {}
  },
  {
   "cell_type": "code",
   "execution_count": null,
   "source": [
    "\n",
    "def wordsToDictionary(word_bag):\n",
    "    word_freq = [word_bag.count(word) for word in word_bag]\n",
    "    return dict(list(zip(word_bag,word_freq)))"
   ],
   "outputs": [],
   "metadata": {}
  },
  {
   "cell_type": "code",
   "execution_count": null,
   "source": [
    "def sortDictionary(counted_words):\n",
    "    aux = [(counted_words[key], key) for key in counted_words]\n",
    "    aux.sort()\n",
    "    aux.reverse()\n",
    "    return aux"
   ],
   "outputs": [],
   "metadata": {}
  },
  {
   "cell_type": "code",
   "execution_count": null,
   "source": [
    "stopwords = ['a','n','the','my','for','with','login','facebook','functionalityfunction','src','id','parentnode','if','is','was','navigation','main','ul','menu','nav']\n",
    "def removeStopWords(word_bag):\n",
    "    return [w for w in word_bag if w not in stopwords]"
   ],
   "outputs": [],
   "metadata": {}
  },
  {
   "cell_type": "code",
   "execution_count": null,
   "source": [
    "collected_text = collect_reviews(my_urls)\n",
    "collected_words = normalize_text(collected_text)\n",
    "collected_words = removeStopWords(collected_words)\n",
    "dict_words = sortDictionary(wordsToDictionary(collected_words))\n",
    "\n",
    "print(dict_words)"
   ],
   "outputs": [],
   "metadata": {}
  },
  {
   "cell_type": "code",
   "execution_count": null,
   "source": [
    "#starting pandas\n",
    "import pandas as pd\n",
    "\n",
    "#create a dataframe object from a csv\n",
    "oscar_df = pd.read_csv('the_oscar_award.csv', delimiter=\",\")\n",
    "\n",
    "oscar_df"
   ],
   "outputs": [],
   "metadata": {}
  },
  {
   "cell_type": "code",
   "execution_count": null,
   "source": [
    "oscar_df.head(10)"
   ],
   "outputs": [],
   "metadata": {}
  },
  {
   "cell_type": "code",
   "execution_count": null,
   "source": [
    "print(oscar_df['year_ceremony'].min())\n",
    "print(oscar_df['year_film'].mean())\n",
    "print(oscar_df['year_film'].max())"
   ],
   "outputs": [],
   "metadata": {}
  },
  {
   "cell_type": "code",
   "execution_count": null,
   "source": [
    "#just to sample the data set\n",
    "oscar_df.sample(10)"
   ],
   "outputs": [],
   "metadata": {}
  },
  {
   "cell_type": "code",
   "execution_count": null,
   "source": [
    "#trying to run standard couting things (max,min)\n",
    "oscar_df.describe(include='all')"
   ],
   "outputs": [],
   "metadata": {}
  },
  {
   "cell_type": "code",
   "execution_count": null,
   "source": [
    "#will count the number of value \"\"\n",
    "oscar_df['film'].value_counts()"
   ],
   "outputs": [],
   "metadata": {}
  },
  {
   "cell_type": "code",
   "execution_count": null,
   "source": [
    "#count value for \"names\"\n",
    "oscar_df['name'].value_counts()[:10]"
   ],
   "outputs": [],
   "metadata": {}
  },
  {
   "cell_type": "code",
   "execution_count": null,
   "source": [
    "#plot out data in visual graph\n",
    "oscar_df['film'].value_counts()[:15].plot(kind=\"barh\", title=\"Most Oscar Nominated Films\")"
   ],
   "outputs": [],
   "metadata": {}
  },
  {
   "cell_type": "code",
   "execution_count": null,
   "source": [
    "#clean data/remove data cells\n",
    "oscar_df['film'] = oscar_df['film'].fillna('No title available')"
   ],
   "outputs": [],
   "metadata": {}
  },
  {
   "cell_type": "code",
   "execution_count": null,
   "source": [
    "#find everything with woman in the title\n",
    "oscar_df[oscar_df['film'].str.contains('Woman')]"
   ],
   "outputs": [],
   "metadata": {}
  }
 ],
 "metadata": {
  "orig_nbformat": 4,
  "language_info": {
   "name": "python",
   "version": "3.8.2"
  },
  "kernelspec": {
   "name": "python3",
   "display_name": "Python 3.8.2 64-bit"
  },
  "interpreter": {
   "hash": "31f2aee4e71d21fbe5cf8b01ff0e069b9275f58929596ceb00d14d90e3e16cd6"
  }
 },
 "nbformat": 4,
 "nbformat_minor": 2
}