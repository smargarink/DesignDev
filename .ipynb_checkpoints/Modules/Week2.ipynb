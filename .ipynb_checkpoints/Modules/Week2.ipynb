{
 "cells": [
  {
   "cell_type": "code",
   "execution_count": 1,
   "source": [
    "# create a helloworld.html file in write mode\n",
    "f = open('helloworld.html','w')\n",
    "\n",
    "#initialize a variable and string of contents for out html file\n",
    "message = \"\"\"<html>\n",
    "<head></head>\n",
    "<body><p>Hello World!</p></body>\n",
    "</html>\"\"\"\n",
    "\n",
    "# overwriting the html file contents with our message\n",
    "f.write(message)\n",
    "\n",
    "f.close()"
   ],
   "outputs": [],
   "metadata": {}
  },
  {
   "cell_type": "code",
   "execution_count": 36,
   "source": [
    "filename = 'file:////Users/smargar/design/helloworld.html' \n",
    "\n",
    "webbrowser.open_new_tab(filename)"
   ],
   "outputs": [
    {
     "output_type": "execute_result",
     "data": {
      "text/plain": [
       "True"
      ]
     },
     "metadata": {},
     "execution_count": 36
    }
   ],
   "metadata": {}
  },
  {
   "cell_type": "code",
   "execution_count": 11,
   "source": [
    "#boilerplate code - set up conversations with urls using a library\n",
    "import urllib.request, urllib.error, urllib.parse\n",
    "\n",
    "#setting up a url - replace !\n",
    "url = 'https://github.com/AMSUCF/Critical-Making-Syllabus/blob/main/syllabus.md'\n",
    "\n",
    "#boilerplate code for requesting a webpage using a url\n",
    "response = urllib.request.urlopen(url)\n",
    "webContent = response.read()\n",
    "\n",
    "print(webContent[3000:4000])"
   ],
   "outputs": [
    {
     "output_type": "stream",
     "name": "stdout",
     "text": [
      "b'k-animate-on-scroll.js\" data-src=\"https://github.githubassets.com/assets/chunk-animate-on-scroll-e6d58a4a.js\"></script>\\n    <script crossorigin=\"anonymous\" defer=\"defer\" integrity=\"sha512-0MZorw3oXnKy5eeSwQ9xGrKU4hxQeCXxmyxhneIHNhDIqu8vWh8mHss9FlC75Xd/bPWxFDCvdOo57tnTR46nbA==\" type=\"application/javascript\" data-module-id=\"./chunk-codemirror.js\" data-src=\"https://github.githubassets.com/assets/chunk-codemirror-d0c668af.js\"></script>\\n    <script crossorigin=\"anonymous\" defer=\"defer\" integrity=\"sha512-M6W/sGLOuJXCIkw+doDl6zl7J9q2DmqdwftQCtyEiZM/UJNGRVQdyKwI/PAMxD12se/wCx3ZcyJs9nz0o0OSVw==\" type=\"application/javascript\" data-module-id=\"./chunk-color-modes.js\" data-src=\"https://github.githubassets.com/assets/chunk-color-modes-33a5bfb0.js\"></script>\\n    <script crossorigin=\"anonymous\" defer=\"defer\" integrity=\"sha512-71HZu1T5JWqRNF9wrm2NXZAqYVvzxZ8Dvor5U5l/LuEBbGCBX57Sny60Rj+qUZZAvEBGFlNsz179DEn2HFwgVA==\" type=\"application/javascript\" data-module-id=\"./chunk-confetti.js\" data-src=\"https://git'\n"
     ]
    }
   ],
   "metadata": {}
  },
  {
   "cell_type": "code",
   "execution_count": 12,
   "source": [
    "url = 'https://github.com/AMSUCF/Critical-Making-Syllabus/blob/main/syllabus.md'\n",
    "\n",
    "response = urllib.request.urlopen(url)\n",
    "webContent = response.read()\n",
    "\n",
    "f = open('demosyllabus.html', 'wb')\n",
    "f.write(webContent)\n",
    "f.close()"
   ],
   "outputs": [],
   "metadata": {}
  },
  {
   "cell_type": "code",
   "execution_count": 19,
   "source": [
    "our_string = \"Hello again, world!\"\n",
    "print(our_string)"
   ],
   "outputs": [
    {
     "output_type": "stream",
     "name": "stdout",
     "text": [
      "Hello again, world!\n"
     ]
    }
   ],
   "metadata": {}
  },
  {
   "cell_type": "code",
   "execution_count": 20,
   "source": [
    "our_length = len(our_string)\n",
    "print(\"Length: \" + str(our_length))"
   ],
   "outputs": [
    {
     "output_type": "stream",
     "name": "stdout",
     "text": [
      "Length: 19\n"
     ]
    }
   ],
   "metadata": {}
  },
  {
   "cell_type": "code",
   "execution_count": 21,
   "source": [
    "print(\"Index of a: \" + str(our_string.index(\"a\")))\n",
    "print(\"Occurences of l: \" + str(our_string.count(\"l\")))\n",
    "print(\"Slice from index 3 to 8: \" + our_string[3:8])"
   ],
   "outputs": [
    {
     "output_type": "stream",
     "name": "stdout",
     "text": [
      "Index of a: 6\n",
      "Occurences of l: 3\n",
      "Slice from index 3 to 8: lo ag\n"
     ]
    }
   ],
   "metadata": {}
  },
  {
   "cell_type": "code",
   "execution_count": 22,
   "source": [
    "print(\"Upper case: \" + our_string.upper())\n",
    "print(\"Lower case: \" + our_string.lower())"
   ],
   "outputs": [
    {
     "output_type": "stream",
     "name": "stdout",
     "text": [
      "Upper case: HELLO AGAIN, WORLD!\n",
      "Lower case: hello again, world!\n"
     ]
    }
   ],
   "metadata": {}
  },
  {
   "cell_type": "code",
   "execution_count": 23,
   "source": [
    "print(our_string[::-1])"
   ],
   "outputs": [
    {
     "output_type": "stream",
     "name": "stdout",
     "text": [
      "!dlrow ,niaga olleH\n"
     ]
    }
   ],
   "metadata": {}
  },
  {
   "cell_type": "code",
   "execution_count": 24,
   "source": [
    "split_string = our_string.split(\" \")\n",
    "print(split_string[1])"
   ],
   "outputs": [
    {
     "output_type": "stream",
     "name": "stdout",
     "text": [
      "again,\n"
     ]
    }
   ],
   "metadata": {}
  },
  {
   "cell_type": "code",
   "execution_count": 25,
   "source": [
    "print(our_string.startswith(\"Hello\"))\n",
    "print(our_string.endswith(\"earth\"))"
   ],
   "outputs": [
    {
     "output_type": "stream",
     "name": "stdout",
     "text": [
      "True\n",
      "False\n"
     ]
    }
   ],
   "metadata": {}
  },
  {
   "cell_type": "code",
   "execution_count": 31,
   "source": [
    "x = 2\n",
    "y = 3\n",
    "name = \"Fred\"\n",
    "age = 35\n",
    "print(x == y)\n",
    "print(x == 2)\n",
    "print(x < y)"
   ],
   "outputs": [
    {
     "output_type": "stream",
     "name": "stdout",
     "text": [
      "False\n",
      "True\n",
      "True\n"
     ]
    }
   ],
   "metadata": {}
  },
  {
   "cell_type": "code",
   "execution_count": 35,
   "source": [
    "flintstones = [\"Fred\",\"Wilma\",\"Pebbles\",\"Dino\"]\n",
    "rubbles = [\"Barney\",\"Betty\",\"Bamm-Bamm\",\"Hoppy\"]\n",
    "\n",
    "#checks two conditions (name is Wilma and age is 35) and is only true if both are true\n",
    "if name == \"Wilma\" and age == 35:\n",
    "    print(\"Wilma verified.\")\n",
    "\n",
    "#checks two conditions and is true if atleast one is true\n",
    "if name == \"Wilma\" or age == 35:\n",
    "    print(\"Possibly Wilma.\")\n",
    "\n",
    "#check if name exists in array, true if it does\n",
    "#if name isnt in that thing, check if instead it's in rubbles\n",
    "#if it isnt in either thing, print that it isnt a character\n",
    "if name in flintstones:\n",
    "    print(\"Found Flintstone.\")\n",
    "elif name in rubbles:\n",
    "    print(\"Found Rubble.\")\n",
    "else:\n",
    "    print(\"Not a character.\")"
   ],
   "outputs": [
    {
     "output_type": "stream",
     "name": "stdout",
     "text": [
      "Found Rubble.\n"
     ]
    }
   ],
   "metadata": {}
  },
  {
   "cell_type": "code",
   "execution_count": 33,
   "source": [
    "name = \"Barney\"\n",
    "age = 23\n",
    "\n",
    "rubble = name in rubbles\n",
    "print(rubble)\n",
    "print(not rubble)\n"
   ],
   "outputs": [
    {
     "output_type": "stream",
     "name": "stdout",
     "text": [
      "True\n",
      "False\n"
     ]
    }
   ],
   "metadata": {}
  }
 ],
 "metadata": {
  "orig_nbformat": 4,
  "language_info": {
   "name": "python",
   "version": "3.8.11",
   "mimetype": "text/x-python",
   "codemirror_mode": {
    "name": "ipython",
    "version": 3
   },
   "pygments_lexer": "ipython3",
   "nbconvert_exporter": "python",
   "file_extension": ".py"
  },
  "kernelspec": {
   "name": "python3",
   "display_name": "Python 3.8.11 64-bit ('base': conda)"
  },
  "interpreter": {
   "hash": "a3bce285177441cdc767e3a9c4ffb6c946df65ec3625de136fb9d1815a6425f2"
  }
 },
 "nbformat": 4,
 "nbformat_minor": 2
}