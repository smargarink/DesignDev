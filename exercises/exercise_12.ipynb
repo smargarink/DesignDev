{
 "cells": [
  {
   "cell_type": "markdown",
   "metadata": {},
   "source": [
    "# Exercise Twelve: Texts, Three Ways\n",
    "## For this week, you will sample the three methods we've explored (topic modeling, sentiment analysis, and Markov chain generation) using the same set of root texts.\n",
    "\n",
    "1. Collect and import ten documents (novels work best, but anything goes!)\n",
    "2. Using the topic modeling code as a starter, build a topic model of the documents\n",
    "3. Using the sentiment analysis code as a starter, run a sentiment analysis on sample fragments from the documents and compare\n",
    "4.  Using the Markov chain code as a starter, generate a sentence using one of the documents\n",
    "5.  Using the Markov chain code as a starter, generate a longer text fragment using all of the documents"
   ]
  },
  {
   "cell_type": "markdown",
   "metadata": {},
   "source": [
    "# Topic Modeling "
   ]
  },
  {
   "cell_type": "code",
   "execution_count": 35,
   "metadata": {},
   "outputs": [
    {
     "name": "stdout",
     "output_type": "stream",
     "text": [
      "10\n",
      "['/Users/smargar/design/exercises/text2/Aenied_The.txt', '/Users/smargar/design/exercises/text2/Full_text_of_The_Nibelungenlied.txt', '/Users/smargar/design/exercises/text2/Odyssey.txt', '/Users/smargar/design/exercises/text2/Provided_by _he_Internet_Classics_Archive.txt', '/Users/smargar/design/exercises/text2/The_Project_Gutenberg_eBook_of_The_Divine_Comedy.txt', '/Users/smargar/design/exercises/text2/The_Rime_of_the_Ancient_Mariner.txt', '/Users/smargar/design/exercises/text2/The_Waste_Land.txt', '/Users/smargar/design/exercises/text2/beowulf_translation_by_seamus_heaney.txt', '/Users/smargar/design/exercises/text2/paradiselost.txt', '/Users/smargar/design/exercises/text2/paradiseregaind.txt']\n"
     ]
    }
   ],
   "source": [
    "#Collect and import ten documents\n",
    "#I tried to segment this off so it was not pulling such a long part of the destination, but I got errors every other way I sliced it.\n",
    "\n",
    "import pandas as pd\n",
    "import os\n",
    "import numpy as np\n",
    "\n",
    "documents = []\n",
    "path = '/Users/smargar/design/exercises/text2'\n",
    "\n",
    "filenames=sorted([os.path.join(path, fn) for fn in os.listdir(path)])\n",
    "print(len(filenames)) # count files in corpus\n",
    "print(filenames[:10]) # print names of 1st ten files in corpus"
   ]
  },
  {
   "cell_type": "code",
   "execution_count": 36,
   "metadata": {},
   "outputs": [],
   "source": [
    "\n",
    "import sklearn.feature_extraction.text as text"
   ]
  },
  {
   "cell_type": "code",
   "execution_count": 37,
   "metadata": {},
   "outputs": [],
   "source": [
    "vectorizer=text.CountVectorizer(input='filename', stop_words=\"english\", min_df=1.0)\n"
   ]
  },
  {
   "cell_type": "code",
   "execution_count": 38,
   "metadata": {},
   "outputs": [],
   "source": [
    "dtm=vectorizer.fit_transform(filenames).toarray() # defines document term matrix\n",
    "\n",
    "vocab=np.array(vectorizer.get_feature_names())"
   ]
  },
  {
   "cell_type": "code",
   "execution_count": 39,
   "metadata": {},
   "outputs": [
    {
     "name": "stdout",
     "output_type": "stream",
     "text": [
      "Shape of document-term matrix: (10, 134). Number of tokens 53986\n"
     ]
    }
   ],
   "source": [
    "print(f'Shape of document-term matrix: {dtm.shape}. '\n",
    "      f'Number of tokens {dtm.sum()}')"
   ]
  },
  {
   "cell_type": "code",
   "execution_count": 40,
   "metadata": {},
   "outputs": [],
   "source": [
    "import sklearn.decomposition as decomposition\n",
    "model = decomposition.LatentDirichletAllocation(\n",
    "    n_components=100, learning_method='online', random_state=1)\n",
    "document_topic_distributions = model.fit_transform(dtm)\n",
    "vocabulary = vectorizer.get_feature_names()\n",
    "# (# topics, # vocabulary)\n",
    "assert model.components_.shape == (100, len(vocabulary))\n",
    "# (# documents, # topics)\n",
    "assert document_topic_distributions.shape == (dtm.shape[0], 100)"
   ]
  },
  {
   "cell_type": "code",
   "execution_count": 41,
   "metadata": {},
   "outputs": [
    {
     "name": "stdout",
     "output_type": "stream",
     "text": [
      "               age       air      arms    beauty     black     blood  \\\n",
      "Topic 0   0.238272  0.195301  0.194871  0.183969  0.240518  0.189597   \n",
      "Topic 1   0.226442  0.264472  0.235988  0.253000  0.291793  0.274580   \n",
      "Topic 2   0.208739  0.260700  0.267743  0.259466  0.228123  0.295756   \n",
      "Topic 3   0.211693  0.228524  0.235670  0.222739  0.201973  0.197491   \n",
      "Topic 4   0.213674  0.189961  0.191986  0.164910  0.159886  0.199587   \n",
      "...            ...       ...       ...       ...       ...       ...   \n",
      "Topic 95  0.186651  0.235412  0.190757  0.207041  0.216921  0.211000   \n",
      "Topic 96  0.187347  0.234996  0.242127  0.186727  0.218681  0.195859   \n",
      "Topic 97  0.207121  0.202852  0.215175  0.168324  0.208070  0.230465   \n",
      "Topic 98  0.153746  0.214430  0.190634  0.212186  0.190087  0.203023   \n",
      "Topic 99  0.184854  0.281400  0.274021  0.223006  0.209902  0.224186   \n",
      "\n",
      "            bright     bring      came      cast  ...    waters       way  \\\n",
      "Topic 0   0.236112  0.167155  0.229361  0.183612  ...  0.237313  0.208863   \n",
      "Topic 1   0.182141  0.360481  0.421438  0.232066  ...  0.269323  0.368112   \n",
      "Topic 2   0.220781  0.255462  0.266474  0.165800  ...  0.212806  0.206680   \n",
      "Topic 3   0.158734  0.193026  0.209293  0.197185  ...  0.207746  0.252050   \n",
      "Topic 4   0.224539  0.192245  0.212448  0.200648  ...  0.213326  0.196383   \n",
      "...            ...       ...       ...       ...  ...       ...       ...   \n",
      "Topic 95  0.219303  0.221507  0.208678  0.195905  ...  0.230404  0.200167   \n",
      "Topic 96  0.200125  0.179036  0.239416  0.195595  ...  0.230665  0.207743   \n",
      "Topic 97  0.213821  0.201308  0.213635  0.205824  ...  0.236934  0.224532   \n",
      "Topic 98  0.205966  0.195903  0.191322  0.214746  ...  0.207904  0.178931   \n",
      "Topic 99  0.238535  0.283886  0.315423  0.161738  ...  0.270510  0.319101   \n",
      "\n",
      "              went      wide      wind     woman       won      wood  \\\n",
      "Topic 0   0.193861  0.201401  0.209779  0.208667  0.201936  0.181153   \n",
      "Topic 1   0.316687  0.336230  0.290822  0.246271  0.231331  0.217341   \n",
      "Topic 2   0.247371  0.286247  0.253439  0.224546  0.177195  0.240336   \n",
      "Topic 3   0.207041  0.202673  0.226842  0.234975  0.200122  0.182647   \n",
      "Topic 4   0.214454  0.196936  0.199042  0.181923  0.196531  0.219109   \n",
      "...            ...       ...       ...       ...       ...       ...   \n",
      "Topic 95  0.193359  0.221504  0.187048  0.204204  0.216844  0.197511   \n",
      "Topic 96  0.234674  0.205463  0.221783  0.231806  0.204865  0.219370   \n",
      "Topic 97  0.201910  0.176004  0.185034  0.188672  0.190037  0.213137   \n",
      "Topic 98  0.189903  0.198872  0.207272  0.200835  0.228174  0.209985   \n",
      "Topic 99  0.220838  0.244088  0.197103  0.224922  0.213057  0.208582   \n",
      "\n",
      "             years     young  \n",
      "Topic 0   0.173494  0.220750  \n",
      "Topic 1   0.253312  0.235408  \n",
      "Topic 2   0.214430  0.234285  \n",
      "Topic 3   0.186851  0.208937  \n",
      "Topic 4   0.210447  0.206395  \n",
      "...            ...       ...  \n",
      "Topic 95  0.209078  0.167710  \n",
      "Topic 96  0.207859  0.197399  \n",
      "Topic 97  0.217818  0.257669  \n",
      "Topic 98  0.182126  0.194695  \n",
      "Topic 99  0.269645  0.218825  \n",
      "\n",
      "[100 rows x 134 columns]\n"
     ]
    }
   ],
   "source": [
    "topic_names = [f'Topic {k}' for k in range(100)]\n",
    "topic_word_distributions = pd.DataFrame(\n",
    "    model.components_, columns=vocabulary, index=topic_names)\n",
    "print(topic_word_distributions)"
   ]
  },
  {
   "cell_type": "code",
   "execution_count": 42,
   "metadata": {},
   "outputs": [
    {
     "data": {
      "text/plain": [
       "did      0.845389\n",
       "shall    0.630173\n",
       "said     0.618377\n",
       "hand     0.516024\n",
       "good     0.505329\n",
       "man      0.505081\n",
       "come     0.498875\n",
       "far      0.485044\n",
       "son      0.477446\n",
       "like     0.471997\n",
       "men      0.443968\n",
       "know     0.422292\n",
       "high     0.422084\n",
       "came     0.409862\n",
       "went     0.397048\n",
       "stood    0.393809\n",
       "time     0.392444\n",
       "way      0.392370\n",
       "Name: Topic 9, dtype: float64"
      ]
     },
     "execution_count": 42,
     "metadata": {},
     "output_type": "execute_result"
    }
   ],
   "source": [
    "topic_word_distributions.loc['Topic 9'].sort_values(ascending=False).head(18)"
   ]
  },
  {
   "cell_type": "code",
   "execution_count": 44,
   "metadata": {},
   "outputs": [
    {
     "data": {
      "image/png": "[encoded data removed]",
      "text/plain": [
       "<Figure size 432x288 with 1 Axes>"
      ]
     },
     "metadata": {
      "needs_background": "light"
     },
     "output_type": "display_data"
    }
   ],
   "source": [
    "words = topic_word_distributions.loc['Topic 2'].sort_values(ascending=False).head(18)\n",
    "words\n",
    "\n",
    "from matplotlib import pyplot as plt\n",
    "from wordcloud import WordCloud, STOPWORDS\n",
    "import matplotlib.colors as mcolors\n",
    "\n",
    "# Create and generate a word cloud image:\n",
    "wordcloud = WordCloud().generate_from_frequencies(words)\n",
    "\n",
    "# Display the generated image:\n",
    "plt.imshow(wordcloud, interpolation='bilinear')\n",
    "plt.axis(\"off\")\n",
    "plt.show()"
   ]
  },
  {
   "cell_type": "markdown",
   "metadata": {},
   "source": [
    "# Sentiment Analysis"
   ]
  },
  {
   "cell_type": "code",
   "execution_count": 45,
   "metadata": {},
   "outputs": [
    {
     "name": "stderr",
     "output_type": "stream",
     "text": [
      "[nltk_data] Downloading package vader_lexicon to\n",
      "[nltk_data]     /Users/smargar/nltk_data...\n",
      "[nltk_data] Downloading package punkt to /Users/smargar/nltk_data...\n",
      "[nltk_data]   Package punkt is already up-to-date!\n"
     ]
    }
   ],
   "source": [
    "import nltk\n",
    "nltk.download('vader_lexicon')\n",
    "nltk.download('punkt')\n",
    "\n",
    "from nltk.sentiment.vader import SentimentIntensityAnalyzer\n",
    "sid = SentimentIntensityAnalyzer()"
   ]
  },
  {
   "cell_type": "code",
   "execution_count": 46,
   "metadata": {},
   "outputs": [
    {
     "name": "stdout",
     "output_type": "stream",
     "text": [
      "/Users/smargar/design/exercises/text2/Aenied_The.txt\n",
      "compound: 0.3612, neg: 0.0, neu: 0.955, pos: 0.045,  \n",
      "/Users/smargar/design/exercises/text2/Full_text_of_The_Nibelungenlied.txt\n",
      "compound: 0.0, neg: 0.0, neu: 1.0, pos: 0.0,  \n",
      "/Users/smargar/design/exercises/text2/Odyssey.txt\n",
      "compound: 0.5622, neg: 0.0, neu: 0.92, pos: 0.08,  \n",
      "/Users/smargar/design/exercises/text2/Provided_by _he_Internet_Classics_Archive.txt\n",
      "compound: 0.5106, neg: 0.063, neu: 0.818, pos: 0.119,  \n",
      "/Users/smargar/design/exercises/text2/The_Project_Gutenberg_eBook_of_The_Divine_Comedy.txt\n",
      "compound: 0.8074, neg: 0.049, neu: 0.821, pos: 0.13,  \n",
      "/Users/smargar/design/exercises/text2/The_Rime_of_the_Ancient_Mariner.txt\n",
      "compound: 0.5106, neg: 0.023, neu: 0.926, pos: 0.051,  \n",
      "/Users/smargar/design/exercises/text2/The_Waste_Land.txt\n",
      "compound: -0.4215, neg: 0.286, neu: 0.714, pos: 0.0,  \n",
      "/Users/smargar/design/exercises/text2/beowulf_translation_by_seamus_heaney.txt\n",
      "compound: 0.3182, neg: 0.074, neu: 0.825, pos: 0.101,  \n",
      "/Users/smargar/design/exercises/text2/paradiselost.txt\n",
      "compound: -0.7241, neg: 0.092, neu: 0.908, pos: 0.0,  \n",
      "/Users/smargar/design/exercises/text2/paradiseregaind.txt\n",
      "compound: 0.34, neg: 0.046, neu: 0.88, pos: 0.074,  \n"
     ]
    }
   ],
   "source": [
    "for filename in filenames:\n",
    "    with open(filename, encoding=\"utf-8\") as f:\n",
    "        text = f.read()\n",
    "        documents.append(text)\n",
    "        scores = sid.polarity_scores(text[0:500])\n",
    "    print(filename)\n",
    "    for key in sorted(scores):\n",
    "        print('{0}: {1}, '.format(key, scores[key]), end='')\n",
    "    print(' ')"
   ]
  },
  {
   "cell_type": "markdown",
   "metadata": {},
   "source": [
    "# Generation"
   ]
  },
  {
   "cell_type": "code",
   "execution_count": 48,
   "metadata": {},
   "outputs": [],
   "source": [
    "import markovify\n",
    "import random\n",
    "generator_text = \"\"\n",
    "\n",
    "for document in documents:\n",
    "    generator_text += document"
   ]
  },
  {
   "cell_type": "code",
   "execution_count": 49,
   "metadata": {},
   "outputs": [
    {
     "name": "stdout",
     "output_type": "stream",
     "text": [
      "\\r\\rAs a fire raging in some great lion\\xc3\\x95s lair in the hall.\n"
     ]
    }
   ],
   "source": [
    "text_model = markovify.Text(generator_text)\n",
    "print( text_model.make_sentence() )"
   ]
  },
  {
   "cell_type": "code",
   "execution_count": 50,
   "metadata": {},
   "outputs": [
    {
     "name": "stdout",
     "output_type": "stream",
     "text": [
      "Then the lovely goddess replied swiftly: \\xc3\\x92Odysseus, man of you will hear of.\\xc3\\x95\\n\\t\\t\\xc3\\x94No, Eurymachus,\\xc3\\x95 Antinous, Eupeithes\\xc3\\x95 son, called her to stop her sad weeping, her tearful grieving, till she has found a path before them. 497 \\r\\rto Dido of the Danaans poured after them like flames of the second class belong Dietrich of Bern, \\rUnto Bloedel straightway did repair \\rWhere Dankwart sat at table. \\rBearing thus fair greeting thence full quickly girded on. Yet loath to take back this grace from thee far, \\rThat far be from some expansion of the Mariandynians.\\n\\tBk III:356-403 Athene departs, and Nestor prays to Athene\\n\\t\\t\\n\\tSo saying she first of those, of whom they before had noticed.\\r\\rThither we drew; and there along that bank which lowest lies,\\r From him thou\\xc3\\x95lt know his mood so haughty, naught he\\'ll deny of all. \n",
      "\n",
      "Never once have my own brave and of the ships sailed swiftly, for a brave man and left the side free from his chariot and horses did he begin, \\rAnd well might she see. Here, I beg you, by those, our absent ones we left his friends still knew him not, till to the social scene and the proud Suitors contrive in their black ship. But they now full plainly might ye no manner of some wild creature, and bathing it in his\\rmother\\'s hand. For the last she tore at their pasture met,\\r Quiet, nor showing their wounds still pained them; nevertheless they came,\\rand took their seats in fear, running to the Master said: \\xc3\\x92Even now, my Son,\\r The city draweth near whose name is Nobody. \n",
      "\n",
      "She met me as I came here, and I feel begun \\r\\rBoth in me thy thoughts with matters hid : \\r\\rLeave them to that tree, and King\\rApollo son of Saturn struck him by the wooden bedstead, and went to him it seemed Odysseus lay there dead, not though heaven itself had honoured- for\\ryou still hold their\\rground- even so did we read lines 469 et seq., where Hephaes- \\rtus describes his fall. \\r\\nNo infringement \\r\\n By word or a great loom in the breeze by the collar-bone on his chariot and horses, and they have seen men taller by a pillar of the beggar in Luke xvi. \\n\\t\\n\\tBk XVIII:284-339 The Suitors mock Telemachus\\n\\t\\n\\tAthene, daughter of Ops, Peisenor\\xc3\\x95s son, carrying a fine tunic and cloak to wear, and send a few typical examples : \\r\\rAbram in ./Egypt. For repeal= Fr. rappeler, in \\rthe third accented ones. Shakespeare, who uses the \\rSeptuagint or Vulgate form. \\r\\r2257 \\rWhen they were done, she went about among\\rthe Argives to a great empire, and warned me to the line: that was dead \\rbefore Theodoric was born, \\rAnd wept with tears of grief. \\r\\rForthwith the hero \\r\\nWith twelve treasures and told them they of Isenland the ship to the story that did he rule the islands, Dulichium, Same, and wooded Zacynthus, and all future women, even those who were living people haling away one another\\'s dead.\\r\\rHe wrought also a herd cows maddened with fright when a man\\'s strength\\ris greatest; if I was younger, \\r\\nI had great influence in the valley and in each \\relement dwelt certain Spirits or daemons peculiar to any man to man. \n",
      "\n",
      "\n"
     ]
    }
   ],
   "source": [
    "novel = ''\n",
    "while (len( novel.split(\" \")) < 500):\n",
    "  for i in range(random.randrange(3,9)):\n",
    "    novel += text_model.make_sentence() + \" \"\n",
    "  novel += \"\\n\\n\"\n",
    "\n",
    "print(novel)"
   ]
  }
 ],
 "metadata": {
  "interpreter": {
   "hash": "260556d7196b2a521c66178a7d32a40a7875a519cf758c158bc134912987d078"
  },
  "kernelspec": {
   "display_name": "Python 3.8.11 64-bit ('base': conda)",
   "language": "python",
   "name": "python3"
  },
  "language_info": {
   "codemirror_mode": {
    "name": "ipython",
    "version": 3
   },
   "file_extension": ".py",
   "mimetype": "text/x-python",
   "name": "python",
   "nbconvert_exporter": "python",
   "pygments_lexer": "ipython3",
   "version": "3.8.11"
  },
  "orig_nbformat": 4
 },
 "nbformat": 4,
 "nbformat_minor": 2
}
