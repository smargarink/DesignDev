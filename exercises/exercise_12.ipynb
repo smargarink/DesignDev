{
 "cells": [
  {
   "cell_type": "code",
   "execution_count": 35,
   "metadata": {},
   "outputs": [
    {
     "name": "stdout",
     "output_type": "stream",
     "text": [
      "10\n",
      "['/Users/smargar/design/exercises/text2/Aenied_The.txt', '/Users/smargar/design/exercises/text2/Full_text_of_The_Nibelungenlied.txt', '/Users/smargar/design/exercises/text2/Odyssey.txt', '/Users/smargar/design/exercises/text2/Provided_by _he_Internet_Classics_Archive.txt', '/Users/smargar/design/exercises/text2/The_Project_Gutenberg_eBook_of_The_Divine_Comedy.txt', '/Users/smargar/design/exercises/text2/The_Rime_of_the_Ancient_Mariner.txt', '/Users/smargar/design/exercises/text2/The_Waste_Land.txt', '/Users/smargar/design/exercises/text2/beowulf_translation_by_seamus_heaney.txt', '/Users/smargar/design/exercises/text2/paradiselost.txt', '/Users/smargar/design/exercises/text2/paradiseregaind.txt']\n"
     ]
    }
   ],
   "source": [
    "#Collect and import ten documents\n",
    "#I tried to segment this off so it was not pulling such a long part of the destination, but I got errors every other way I sliced it.\n",
    "\n",
    "import pandas as pd\n",
    "import os\n",
    "import numpy as np\n",
    "\n",
    "documents = []\n",
    "path = '/Users/smargar/design/exercises/text2'\n",
    "\n",
    "filenames=sorted([os.path.join(path, fn) for fn in os.listdir(path)])\n",
    "print(len(filenames)) # count files in corpus\n",
    "print(filenames[:10]) # print names of 1st ten files in corpus"
   ]
  },
  {
   "cell_type": "code",
   "execution_count": 36,
   "metadata": {},
   "outputs": [],
   "source": [
    "\n",
    "import sklearn.feature_extraction.text as text"
   ]
  },
  {
   "cell_type": "code",
   "execution_count": 37,
   "metadata": {},
   "outputs": [],
   "source": [
    "vectorizer=text.CountVectorizer(input='filename', stop_words=\"english\", min_df=1.0)\n"
   ]
  },
  {
   "cell_type": "code",
   "execution_count": 38,
   "metadata": {},
   "outputs": [],
   "source": [
    "dtm=vectorizer.fit_transform(filenames).toarray() # defines document term matrix\n",
    "\n",
    "vocab=np.array(vectorizer.get_feature_names())"
   ]
  },
  {
   "cell_type": "code",
   "execution_count": null,
   "metadata": {},
   "outputs": [],
   "source": []
  }
 ],
 "metadata": {
  "interpreter": {
   "hash": "260556d7196b2a521c66178a7d32a40a7875a519cf758c158bc134912987d078"
  },
  "kernelspec": {
   "display_name": "Python 3.8.11 64-bit ('base': conda)",
   "language": "python",
   "name": "python3"
  },
  "language_info": {
   "codemirror_mode": {
    "name": "ipython",
    "version": 3
   },
   "file_extension": ".py",
   "mimetype": "text/x-python",
   "name": "python",
   "nbconvert_exporter": "python",
   "pygments_lexer": "ipython3",
   "version": "3.8.11"
  },
  "orig_nbformat": 4
 },
 "nbformat": 4,
 "nbformat_minor": 2
}
