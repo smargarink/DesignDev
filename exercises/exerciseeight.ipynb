{
 "cells": [
  {
   "cell_type": "markdown",
   "metadata": {},
   "source": [
    "Import your selected structured CSV data\n",
    "Use Pandas to note any preliminary trends in the CSV as a dataframe\n",
    "Use \"group by\" to break down at least two different subsets of data\n",
    "Plot a comparison between the grouped data (this will be easiest over time)\n",
    "Use one additional form of analysis or visualization from any we've tried so far"
   ]
  }
 ],
 "metadata": {
  "language_info": {
   "name": "python"
  },
  "orig_nbformat": 4
 },
 "nbformat": 4,
 "nbformat_minor": 2
}
