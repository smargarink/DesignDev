{
 "cells": [
  {
   "cell_type": "markdown",
   "source": [
    "Stage One: Import Libraries / Data"
   ],
   "metadata": {}
  },
  {
   "cell_type": "code",
   "execution_count": 2,
   "source": [
    "#starting pandas\n",
    "import pandas as pd\n",
    "\n",
    "#create a dataframe object from a csv\n",
    "tarantino_df = pd.read_csv('tarantino.csv', delimiter=\",\")\n",
    "\n",
    "tarantino_df"
   ],
   "outputs": [
    {
     "output_type": "execute_result",
     "data": {
      "text/html": [
       "<div>\n",
       "<style scoped>\n",
       "    .dataframe tbody tr th:only-of-type {\n",
       "        vertical-align: middle;\n",
       "    }\n",
       "\n",
       "    .dataframe tbody tr th {\n",
       "        vertical-align: top;\n",
       "    }\n",
       "\n",
       "    .dataframe thead th {\n",
       "        text-align: right;\n",
       "    }\n",
       "</style>\n",
       "<table border=\"1\" class=\"dataframe\">\n",
       "  <thead>\n",
       "    <tr style=\"text-align: right;\">\n",
       "      <th></th>\n",
       "      <th>movie</th>\n",
       "      <th>type</th>\n",
       "      <th>word</th>\n",
       "      <th>minutes_in</th>\n",
       "    </tr>\n",
       "  </thead>\n",
       "  <tbody>\n",
       "    <tr>\n",
       "      <th>0</th>\n",
       "      <td>Reservoir Dogs</td>\n",
       "      <td>word</td>\n",
       "      <td>dick</td>\n",
       "      <td>0.40</td>\n",
       "    </tr>\n",
       "    <tr>\n",
       "      <th>1</th>\n",
       "      <td>Reservoir Dogs</td>\n",
       "      <td>word</td>\n",
       "      <td>dicks</td>\n",
       "      <td>0.43</td>\n",
       "    </tr>\n",
       "    <tr>\n",
       "      <th>2</th>\n",
       "      <td>Reservoir Dogs</td>\n",
       "      <td>word</td>\n",
       "      <td>fucked</td>\n",
       "      <td>0.55</td>\n",
       "    </tr>\n",
       "    <tr>\n",
       "      <th>3</th>\n",
       "      <td>Reservoir Dogs</td>\n",
       "      <td>word</td>\n",
       "      <td>fucking</td>\n",
       "      <td>0.61</td>\n",
       "    </tr>\n",
       "    <tr>\n",
       "      <th>4</th>\n",
       "      <td>Reservoir Dogs</td>\n",
       "      <td>word</td>\n",
       "      <td>bullshit</td>\n",
       "      <td>0.61</td>\n",
       "    </tr>\n",
       "    <tr>\n",
       "      <th>...</th>\n",
       "      <td>...</td>\n",
       "      <td>...</td>\n",
       "      <td>...</td>\n",
       "      <td>...</td>\n",
       "    </tr>\n",
       "    <tr>\n",
       "      <th>1889</th>\n",
       "      <td>Jackie Brown</td>\n",
       "      <td>word</td>\n",
       "      <td>motherfucker</td>\n",
       "      <td>141.93</td>\n",
       "    </tr>\n",
       "    <tr>\n",
       "      <th>1890</th>\n",
       "      <td>Jackie Brown</td>\n",
       "      <td>word</td>\n",
       "      <td>ass</td>\n",
       "      <td>142.43</td>\n",
       "    </tr>\n",
       "    <tr>\n",
       "      <th>1891</th>\n",
       "      <td>Jackie Brown</td>\n",
       "      <td>word</td>\n",
       "      <td>fucking</td>\n",
       "      <td>142.47</td>\n",
       "    </tr>\n",
       "    <tr>\n",
       "      <th>1892</th>\n",
       "      <td>Jackie Brown</td>\n",
       "      <td>word</td>\n",
       "      <td>goddamn</td>\n",
       "      <td>142.97</td>\n",
       "    </tr>\n",
       "    <tr>\n",
       "      <th>1893</th>\n",
       "      <td>Jackie Brown</td>\n",
       "      <td>death</td>\n",
       "      <td>NaN</td>\n",
       "      <td>143.13</td>\n",
       "    </tr>\n",
       "  </tbody>\n",
       "</table>\n",
       "<p>1894 rows × 4 columns</p>\n",
       "</div>"
      ],
      "text/plain": [
       "               movie   type          word  minutes_in\n",
       "0     Reservoir Dogs   word          dick        0.40\n",
       "1     Reservoir Dogs   word         dicks        0.43\n",
       "2     Reservoir Dogs   word        fucked        0.55\n",
       "3     Reservoir Dogs   word       fucking        0.61\n",
       "4     Reservoir Dogs   word      bullshit        0.61\n",
       "...              ...    ...           ...         ...\n",
       "1889    Jackie Brown   word  motherfucker      141.93\n",
       "1890    Jackie Brown   word           ass      142.43\n",
       "1891    Jackie Brown   word       fucking      142.47\n",
       "1892    Jackie Brown   word       goddamn      142.97\n",
       "1893    Jackie Brown  death           NaN      143.13\n",
       "\n",
       "[1894 rows x 4 columns]"
      ]
     },
     "metadata": {},
     "execution_count": 2
    }
   ],
   "metadata": {}
  },
  {
   "cell_type": "markdown",
   "source": [
    "Stage Two: Display a Summary and Sub-sections of the Data"
   ],
   "metadata": {}
  },
  {
   "cell_type": "code",
   "execution_count": 4,
   "source": [
    "# list 10\n",
    "tarantino_df.head(10)"
   ],
   "outputs": [
    {
     "output_type": "execute_result",
     "data": {
      "text/html": [
       "<div>\n",
       "<style scoped>\n",
       "    .dataframe tbody tr th:only-of-type {\n",
       "        vertical-align: middle;\n",
       "    }\n",
       "\n",
       "    .dataframe tbody tr th {\n",
       "        vertical-align: top;\n",
       "    }\n",
       "\n",
       "    .dataframe thead th {\n",
       "        text-align: right;\n",
       "    }\n",
       "</style>\n",
       "<table border=\"1\" class=\"dataframe\">\n",
       "  <thead>\n",
       "    <tr style=\"text-align: right;\">\n",
       "      <th></th>\n",
       "      <th>movie</th>\n",
       "      <th>type</th>\n",
       "      <th>word</th>\n",
       "      <th>minutes_in</th>\n",
       "    </tr>\n",
       "  </thead>\n",
       "  <tbody>\n",
       "    <tr>\n",
       "      <th>0</th>\n",
       "      <td>Reservoir Dogs</td>\n",
       "      <td>word</td>\n",
       "      <td>dick</td>\n",
       "      <td>0.40</td>\n",
       "    </tr>\n",
       "    <tr>\n",
       "      <th>1</th>\n",
       "      <td>Reservoir Dogs</td>\n",
       "      <td>word</td>\n",
       "      <td>dicks</td>\n",
       "      <td>0.43</td>\n",
       "    </tr>\n",
       "    <tr>\n",
       "      <th>2</th>\n",
       "      <td>Reservoir Dogs</td>\n",
       "      <td>word</td>\n",
       "      <td>fucked</td>\n",
       "      <td>0.55</td>\n",
       "    </tr>\n",
       "    <tr>\n",
       "      <th>3</th>\n",
       "      <td>Reservoir Dogs</td>\n",
       "      <td>word</td>\n",
       "      <td>fucking</td>\n",
       "      <td>0.61</td>\n",
       "    </tr>\n",
       "    <tr>\n",
       "      <th>4</th>\n",
       "      <td>Reservoir Dogs</td>\n",
       "      <td>word</td>\n",
       "      <td>bullshit</td>\n",
       "      <td>0.61</td>\n",
       "    </tr>\n",
       "    <tr>\n",
       "      <th>5</th>\n",
       "      <td>Reservoir Dogs</td>\n",
       "      <td>word</td>\n",
       "      <td>fuck</td>\n",
       "      <td>0.66</td>\n",
       "    </tr>\n",
       "    <tr>\n",
       "      <th>6</th>\n",
       "      <td>Reservoir Dogs</td>\n",
       "      <td>word</td>\n",
       "      <td>shit</td>\n",
       "      <td>0.90</td>\n",
       "    </tr>\n",
       "    <tr>\n",
       "      <th>7</th>\n",
       "      <td>Reservoir Dogs</td>\n",
       "      <td>word</td>\n",
       "      <td>fuck</td>\n",
       "      <td>1.43</td>\n",
       "    </tr>\n",
       "    <tr>\n",
       "      <th>8</th>\n",
       "      <td>Reservoir Dogs</td>\n",
       "      <td>word</td>\n",
       "      <td>dicks</td>\n",
       "      <td>1.56</td>\n",
       "    </tr>\n",
       "    <tr>\n",
       "      <th>9</th>\n",
       "      <td>Reservoir Dogs</td>\n",
       "      <td>word</td>\n",
       "      <td>fuck</td>\n",
       "      <td>1.66</td>\n",
       "    </tr>\n",
       "  </tbody>\n",
       "</table>\n",
       "</div>"
      ],
      "text/plain": [
       "            movie  type      word  minutes_in\n",
       "0  Reservoir Dogs  word      dick        0.40\n",
       "1  Reservoir Dogs  word     dicks        0.43\n",
       "2  Reservoir Dogs  word    fucked        0.55\n",
       "3  Reservoir Dogs  word   fucking        0.61\n",
       "4  Reservoir Dogs  word  bullshit        0.61\n",
       "5  Reservoir Dogs  word      fuck        0.66\n",
       "6  Reservoir Dogs  word      shit        0.90\n",
       "7  Reservoir Dogs  word      fuck        1.43\n",
       "8  Reservoir Dogs  word     dicks        1.56\n",
       "9  Reservoir Dogs  word      fuck        1.66"
      ]
     },
     "metadata": {},
     "execution_count": 4
    }
   ],
   "metadata": {}
  },
  {
   "cell_type": "code",
   "execution_count": 14,
   "source": [
    "#just to sample the data set\n",
    "tarantino_df.sample(10)"
   ],
   "outputs": [
    {
     "output_type": "execute_result",
     "data": {
      "text/html": [
       "<div>\n",
       "<style scoped>\n",
       "    .dataframe tbody tr th:only-of-type {\n",
       "        vertical-align: middle;\n",
       "    }\n",
       "\n",
       "    .dataframe tbody tr th {\n",
       "        vertical-align: top;\n",
       "    }\n",
       "\n",
       "    .dataframe thead th {\n",
       "        text-align: right;\n",
       "    }\n",
       "</style>\n",
       "<table border=\"1\" class=\"dataframe\">\n",
       "  <thead>\n",
       "    <tr style=\"text-align: right;\">\n",
       "      <th></th>\n",
       "      <th>movie</th>\n",
       "      <th>type</th>\n",
       "      <th>word</th>\n",
       "      <th>minutes_in</th>\n",
       "    </tr>\n",
       "  </thead>\n",
       "  <tbody>\n",
       "    <tr>\n",
       "      <th>879</th>\n",
       "      <td>Pulp Fiction</td>\n",
       "      <td>word</td>\n",
       "      <td>bitch</td>\n",
       "      <td>142.42</td>\n",
       "    </tr>\n",
       "    <tr>\n",
       "      <th>55</th>\n",
       "      <td>Reservoir Dogs</td>\n",
       "      <td>word</td>\n",
       "      <td>fucking</td>\n",
       "      <td>9.96</td>\n",
       "    </tr>\n",
       "    <tr>\n",
       "      <th>794</th>\n",
       "      <td>Pulp Fiction</td>\n",
       "      <td>word</td>\n",
       "      <td>shit</td>\n",
       "      <td>121.47</td>\n",
       "    </tr>\n",
       "    <tr>\n",
       "      <th>1582</th>\n",
       "      <td>Jackie Brown</td>\n",
       "      <td>word</td>\n",
       "      <td>n-word</td>\n",
       "      <td>17.12</td>\n",
       "    </tr>\n",
       "    <tr>\n",
       "      <th>1232</th>\n",
       "      <td>Django Unchained</td>\n",
       "      <td>word</td>\n",
       "      <td>hell</td>\n",
       "      <td>22.67</td>\n",
       "    </tr>\n",
       "    <tr>\n",
       "      <th>80</th>\n",
       "      <td>Reservoir Dogs</td>\n",
       "      <td>word</td>\n",
       "      <td>fuck</td>\n",
       "      <td>16.45</td>\n",
       "    </tr>\n",
       "    <tr>\n",
       "      <th>761</th>\n",
       "      <td>Pulp Fiction</td>\n",
       "      <td>word</td>\n",
       "      <td>fucking</td>\n",
       "      <td>118.68</td>\n",
       "    </tr>\n",
       "    <tr>\n",
       "      <th>1246</th>\n",
       "      <td>Django Unchained</td>\n",
       "      <td>death</td>\n",
       "      <td>NaN</td>\n",
       "      <td>37.45</td>\n",
       "    </tr>\n",
       "    <tr>\n",
       "      <th>955</th>\n",
       "      <td>Kill Bill: Vol. 1</td>\n",
       "      <td>death</td>\n",
       "      <td>NaN</td>\n",
       "      <td>42.77</td>\n",
       "    </tr>\n",
       "    <tr>\n",
       "      <th>615</th>\n",
       "      <td>Pulp Fiction</td>\n",
       "      <td>word</td>\n",
       "      <td>fucking</td>\n",
       "      <td>59.05</td>\n",
       "    </tr>\n",
       "  </tbody>\n",
       "</table>\n",
       "</div>"
      ],
      "text/plain": [
       "                  movie   type     word  minutes_in\n",
       "879        Pulp Fiction   word    bitch      142.42\n",
       "55       Reservoir Dogs   word  fucking        9.96\n",
       "794        Pulp Fiction   word     shit      121.47\n",
       "1582       Jackie Brown   word  n-word        17.12\n",
       "1232   Django Unchained   word     hell       22.67\n",
       "80       Reservoir Dogs   word     fuck       16.45\n",
       "761        Pulp Fiction   word  fucking      118.68\n",
       "1246   Django Unchained  death      NaN       37.45\n",
       "955   Kill Bill: Vol. 1  death      NaN       42.77\n",
       "615        Pulp Fiction   word  fucking       59.05"
      ]
     },
     "metadata": {},
     "execution_count": 14
    }
   ],
   "metadata": {}
  },
  {
   "cell_type": "code",
   "execution_count": 3,
   "source": [
    "#curse word count\n",
    "tarantino_df['word'].value_counts()[:10]"
   ],
   "outputs": [
    {
     "output_type": "execute_result",
     "data": {
      "text/plain": [
       "fucking         407\n",
       "shit            221\n",
       "fuck            213\n",
       "n-word          179\n",
       "ass             140\n",
       "goddamn         113\n",
       "motherfucker     70\n",
       "bitch            64\n",
       "hell             45\n",
       "damn             37\n",
       "Name: word, dtype: int64"
      ]
     },
     "metadata": {},
     "execution_count": 3
    }
   ],
   "metadata": {}
  },
  {
   "cell_type": "markdown",
   "source": [
    "Stage Three: Clean Your Data"
   ],
   "metadata": {}
  },
  {
   "cell_type": "code",
   "execution_count": 23,
   "source": [
    "#clean data/remove data cells - replace blank death scene cells with \"death sequence\"\n",
    "tarantino_df['word'] = tarantino_df['word'].fillna('Death Sequence')\n"
   ],
   "outputs": [],
   "metadata": {}
  },
  {
   "cell_type": "markdown",
   "source": [
    "Stage Four: Plot Your Data - able to run code but cannot get graph to appear ... not sure what I am doing wrong."
   ],
   "metadata": {}
  },
  {
   "cell_type": "code",
   "execution_count": 32,
   "source": [
    "#most used bad words \n",
    "tarantino_df['word'].value_counts().plot(kind=\"barh\", title=\"Most used foul words in Tarantino Films\")\n",
    "\n",
    "\n"
   ],
   "outputs": [
    {
     "output_type": "execute_result",
     "data": {
      "text/plain": [
       "<AxesSubplot:title={'center':'Most used foul words in Tarantino Films'}>"
      ]
     },
     "metadata": {},
     "execution_count": 32
    }
   ],
   "metadata": {}
  },
  {
   "cell_type": "code",
   "execution_count": 10,
   "source": [
    "#different visualization of most used bad words\n",
    "tarantino_df['word'].value_counts().plot(kind=\"area\", title=\"Most used foul words\")"
   ],
   "outputs": [
    {
     "output_type": "execute_result",
     "data": {
      "text/plain": [
       "<AxesSubplot:title={'center':'Most used foul words'}, ylabel='movie'>"
      ]
     },
     "metadata": {},
     "execution_count": 10
    }
   ],
   "metadata": {}
  },
  {
   "cell_type": "code",
   "execution_count": 11,
   "source": [
    "#make a pie chart of films with most occurances\n",
    "tarantino_df['movie'].value_counts()[:20].plot(kind=\"pie\", title=\"Most occuring titles with foul language/death\")"
   ],
   "outputs": [
    {
     "output_type": "execute_result",
     "data": {
      "text/plain": [
       "<AxesSubplot:title={'center':'Most occuring titles with foul language/death'}, ylabel='movie'>"
      ]
     },
     "metadata": {},
     "execution_count": 11
    }
   ],
   "metadata": {}
  },
  {
   "cell_type": "markdown",
   "source": [
    "Stage Five: Draw Comparisons and Make Claims - attempted to bring in comparision tools from mod 4 to compare the frequency of words, but it has not been successful. Curious to see what the diff in genered langauge is such as words like \"bitch\" and \"dick.\""
   ],
   "metadata": {}
  },
  {
   "cell_type": "code",
   "execution_count": 3,
   "source": [
    "tarantino_df = ('tarantino.csv')\n",
    "word_bag = tarantino_df['word'].value_counts()\n",
    "\n",
    "def compare_words(word_one, word_two):\n",
    "    if not word_one in word_bag or not word_two in word_bag:\n",
    "       print(\"Word(s) not found\")\n",
    "    #elif counted_words[word_one] >  counted_words[word_two]:\n",
    "    elif word_bag.count(word_one) > word_bag.count(word_two):\n",
    "        print(\"Word one is more prevalent.\")\n",
    "    elif word_bag.count(word_one) < word_bag.count(word_two):\n",
    "        print(\"Word two is more prevalent.\")\n",
    "        #print(word_one + \" appeared more often\")\n",
    "    #elif counted_words[word_two] >  counted_words[word_one]:\n",
    "      #  print(word_two + \" appeared more often\") \n",
    "    else:\n",
    "        print(\"Words occurred with equal frequency\")\n",
    "\n",
    "compare_words(\"fuck\",\"fucking\")\n",
    "compare_words(\"fag\",\"n-word\")\n",
    "compare_words(\"bitch\",\"dick\")"
   ],
   "outputs": [
    {
     "output_type": "error",
     "ename": "TypeError",
     "evalue": "string indices must be integers",
     "traceback": [
      "\u001b[0;31m---------------------------------------------------------------------------\u001b[0m",
      "\u001b[0;31mTypeError\u001b[0m                                 Traceback (most recent call last)",
      "\u001b[0;32m<ipython-input-3-2cb21986235b>\u001b[0m in \u001b[0;36m<module>\u001b[0;34m\u001b[0m\n\u001b[1;32m      1\u001b[0m \u001b[0mtarantino_df\u001b[0m \u001b[0;34m=\u001b[0m \u001b[0;34m(\u001b[0m\u001b[0;34m'tarantino.csv'\u001b[0m\u001b[0;34m)\u001b[0m\u001b[0;34m\u001b[0m\u001b[0;34m\u001b[0m\u001b[0m\n\u001b[0;32m----> 2\u001b[0;31m \u001b[0mword_bag\u001b[0m \u001b[0;34m=\u001b[0m \u001b[0mtarantino_df\u001b[0m\u001b[0;34m[\u001b[0m\u001b[0;34m'word'\u001b[0m\u001b[0;34m]\u001b[0m\u001b[0;34m.\u001b[0m\u001b[0mvalue_counts\u001b[0m\u001b[0;34m(\u001b[0m\u001b[0;34m)\u001b[0m\u001b[0;34m\u001b[0m\u001b[0;34m\u001b[0m\u001b[0m\n\u001b[0m\u001b[1;32m      3\u001b[0m \u001b[0;34m\u001b[0m\u001b[0m\n\u001b[1;32m      4\u001b[0m \u001b[0;32mdef\u001b[0m \u001b[0mcompare_words\u001b[0m\u001b[0;34m(\u001b[0m\u001b[0mword_one\u001b[0m\u001b[0;34m,\u001b[0m \u001b[0mword_two\u001b[0m\u001b[0;34m)\u001b[0m\u001b[0;34m:\u001b[0m\u001b[0;34m\u001b[0m\u001b[0;34m\u001b[0m\u001b[0m\n\u001b[1;32m      5\u001b[0m     \u001b[0;32mif\u001b[0m \u001b[0;32mnot\u001b[0m \u001b[0mword_one\u001b[0m \u001b[0;32min\u001b[0m \u001b[0mword_bag\u001b[0m \u001b[0;32mor\u001b[0m \u001b[0;32mnot\u001b[0m \u001b[0mword_two\u001b[0m \u001b[0;32min\u001b[0m \u001b[0mword_bag\u001b[0m\u001b[0;34m:\u001b[0m\u001b[0;34m\u001b[0m\u001b[0;34m\u001b[0m\u001b[0m\n",
      "\u001b[0;31mTypeError\u001b[0m: string indices must be integers"
     ]
    }
   ],
   "metadata": {}
  },
  {
   "cell_type": "markdown",
   "source": [
    "Bonus: Export a Meaningful Visualization - tried a different method I found online since I was unsuccessfully in getting the last graph to appear (more of an experiement)"
   ],
   "metadata": {}
  },
  {
   "cell_type": "code",
   "execution_count": 35,
   "source": [
    "import matplotlib.pyplot as plt\n",
    "import pandas as pd\n",
    "  \n",
    "  \n",
    "# Initialize the lists for X and Y\n",
    "data = pd.read_csv('tarantino.csv')\n",
    "  \n",
    "df = pd.DataFrame(data)\n",
    "  \n",
    "X = list(df.iloc[:, 0])\n",
    "Y = list(df.iloc[:, 1])\n",
    "  \n",
    "# Plot the data using bar() method\n",
    "plt.bar(X, Y, color='g')\n",
    "plt.title(\"Frequency of used curse words\")\n",
    "plt.xlabel(\"word\")\n",
    "plt.ylabel(\"Number of occurances\")\n",
    "  \n",
    "# Show the plot\n",
    "plt.show()"
   ],
   "outputs": [
    {
     "output_type": "display_data",
     "data": {
      "image/png": "[encoded data removed]",
      "text/plain": [
       "<Figure size 640x480 with 1 Axes>"
      ]
     },
     "metadata": {}
    }
   ],
   "metadata": {}
  }
 ],
 "metadata": {
  "orig_nbformat": 4,
  "language_info": {
   "name": "python",
   "version": "3.8.11",
   "mimetype": "text/x-python",
   "codemirror_mode": {
    "name": "ipython",
    "version": 3
   },
   "pygments_lexer": "ipython3",
   "nbconvert_exporter": "python",
   "file_extension": ".py"
  },
  "kernelspec": {
   "name": "python3",
   "display_name": "Python 3.8.11 64-bit ('base': conda)"
  },
  "interpreter": {
   "hash": "a3bce285177441cdc767e3a9c4ffb6c946df65ec3625de136fb9d1815a6425f2"
  }
 },
 "nbformat": 4,
 "nbformat_minor": 2
}