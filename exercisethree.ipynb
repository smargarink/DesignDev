{
 "cells": [
  {
   "cell_type": "code",
   "execution_count": 47,
   "source": [
    "# Start by setting up your content import. You can use the same target content as you used for exercise two, or set up something new. Read in and store the content from a single URL.\n",
    "import urllib.request, urllib.error, urllib.parse\n",
    "\n",
    "url = 'https://www.goodreads.com/book/show/28648863-juliet-takes-a-breath'\n",
    "\n",
    "response = urllib.request.urlopen(url)\n",
    "HTML = response.read()\n",
    "\n",
    "print(HTML[0: 2000])"
   ],
   "outputs": [
    {
     "output_type": "stream",
     "name": "stdout",
     "text": [
      "b'<!DOCTYPE html>\\n<html class=\"desktop\\n\">\\n<head prefix=\"og: http://ogp.me/ns# fb: http://ogp.me/ns/fb# good_reads: http://ogp.me/ns/fb/good_reads#\">\\n  <title>Juliet Takes a Breath by Gabby Rivera</title>\\n\\n<meta content=\"Juliet Takes a Breath book. Read 2,134 reviews from the world\\'s largest community for readers. Juliet Milagros Palante is leaving the Bronx and headed to...\" name=\\'description\\'>\\n<meta content=\\'telephone=no\\' name=\\'format-detection\\'>\\n<link href=\\'https://www.goodreads.com/book/show/28648863-juliet-takes-a-breath\\' rel=\\'canonical\\'>\\n    <meta content=\\'2415071772\\' property=\\'fb:app_id\\'>\\n<meta content=\\'books.book\\' property=\\'og:type\\'>\\n<meta content=\\'Juliet Takes a Breath\\' property=\\'og:title\\'>\\n<meta content=\\'Juliet Milagros Palante is leaving the Bronx and headed to Portland, Oregon. She just came out to her family and isn\\xe2\\x80\\x99t sure if her mom wi...\\' property=\\'og:description\\'>\\n<meta content=\\'https://i.gr-assets.com/images/S/compressed.photo.goodreads.com/books/1453334587i/28648863._UY630_SR1200,630_.jpg\\' property=\\'og:image\\'>\\n<meta content=\\'https://www.goodreads.com/work/best_book/48836658-juliet-takes-a-breath\\' property=\\'og:url\\'>\\n<meta content=\\'https://www.goodreads.com/author/show/14889581.Gabby_Rivera\\' property=\\'books:author\\'>\\n<meta content=\\'null\\' property=\\'books:isbn\\'>\\n<meta content=\\'276\\' property=\\'books:page_count\\'>\\n<meta content=\\'Goodreads\\' property=\\'al:ios:app_name\\'>\\n<meta content=\\'355833469\\' property=\\'al:ios:app_store_id\\'>\\n<meta content=\\'com.goodreads.https://book/show/28648863\\' property=\\'al:ios:url\\'>\\n\\n        <link rel=\"alternate\" href=\"https://www.goodreads.com/en/book/show/28648863\" hreflang=\"en\"/>\\n    <link rel=\"alternate\" href=\"https://www.goodreads.com/it/book/show/28648863\" hreflang=\"it\"/>\\n    <link rel=\"alternate\" href=\"https://www.goodreads.com/es/book/show/28648863\" hreflang=\"es\"/>\\n    <link rel=\"alternate\" href=\"https://www.goodreads.com/sl/book/show/28648863\" hreflang=\"sl\"/>\\n    <link rel=\"alternate\" href=\"https://www.goodreads.com/de/book/show/'\n"
     ]
    }
   ],
   "metadata": {}
  },
  {
   "cell_type": "code",
   "execution_count": 49,
   "source": [
    "contents = str(HTML)\n",
    "startLoc = contents.find(\"Juliet Takes a Breath</a>\")\n",
    "endLoc = contents.find(\"<div class='answererUserIcon'>\")\n",
    "\n",
    "print(startLoc)\n",
    "print(endLoc)\n",
    "\n",
    "contents = contents[startLoc: endLoc]\n",
    "print(contents[0: 2000])"
   ],
   "outputs": [
    {
     "output_type": "stream",
     "name": "stdout",
     "text": [
      "109590\n",
      "-1\n",
      "Juliet Takes a Breath</a>,\\n<a class=\"actionLink\" rel=\"nofollow\" href=\"/user/new\">please sign up</a>.\\n</div>\\n\\n<div class=\\'elementListBrownSeparator\\'></div>\\n<div class=\\'communityQuestionSubTitle\\'>\\nPopular Answered Questions\\n</div>\\n<div id=\\'communityQuestionsWithAnswers\\'>\\n<div class=\\'communityQuestionAndAnswer\\'>\\n<div class=\\'communityQuestion\\'>\\n<div class=\\'questionText\\'>\\n<a href=\"/questions/1189653-is-this-book-appropriate-for-13-14-year\">Is this book appropriate for 13-14 year old 8th graders? We have students requesting novels with lesbian protagonists and unfortunately, I can&#39;t find many that seem appropriate for my students. Mild cursing, but I don&#39;t want it to be focused solely on the sexual identity of the character.</a>\\n</div>\\n<div class=\\'communityQAFooter questionFooter\\'>\\n<ul class=\\'questionFooterActions\\'>\\n<li class=\\'footerItem like\\'>\\n<span class=\\'likeItContainer\\' id=\\'like_container_community_question_1189653\\'><a rel=\"nofollow\" class=\"jsLike like_it\" href=\"https://www.goodreads.com/user/new?remember=true&amp;return_url=%2Fbook%2Fshow%2F28648863-juliet-takes-a-breath\">like</a></span>\\n\\n</li>\\n<li class=\\'footerItem communityQuestionTimestamp\\'>\\n<a href=\"/questions/1189653-is-this-book-appropriate-for-13-14-year\">3 years ago</a>\\n</li>\\n<li class=\\'footerItem communityQuestionPermalink\\'>\\n<a href=\"/questions/1189653-is-this-book-appropriate-for-13-14-year\">See all 5 answers</a>\\n</li>\\n</ul>\\n</div>\\n\\n</div>\\n<div class=\\'allCommunityAnswers\\'>\\n<div class=\\'communityAnswer\\'>\\n<div class=\\'communityAnswerBody\\'>\\n<div class=\\'answererUserIcon\\'>\\n<a class=\"leftAlignedImage userPhoto\" href=\"/user/show/43300937-taiwo-a-lifestyle-nerd\"><img alt=\"\" src=\"https://i.gr-assets.com/images/S/compressed.photo.goodreads.com/users/1546117051i/43300937._UX100_CR0,0,100,100_.jpg\" /></a>\\n</div>\\n<div class=\\'communityAnswerTextContainer\\'>\\n<span class=\\'communityAnswererName\\'>\\n<a href=\"/user/show/43300937-taiwo-a-lifestyle-n\n"
     ]
    }
   ],
   "metadata": {}
  },
  {
   "cell_type": "code",
   "execution_count": 50,
   "source": [
    "inside = 0\n",
    "text = ''\n",
    "\n",
    "for char in contents:\n",
    "    if char == '<':\n",
    "        inside = 1\n",
    "    elif (inside == 1 and char == '>'):\n",
    "        inside = 0\n",
    "    elif inside== 1:\n",
    "        continue\n",
    "    else: \n",
    "        text += char\n",
    "\n",
    "print(text[0: 2000])"
   ],
   "outputs": [
    {
     "output_type": "stream",
     "name": "stdout",
     "text": [
      "Juliet Takes a Breath,\\nplease sign up.\\n\\n\\n\\n\\nPopular Answered Questions\\n\\n\\n\\n\\n\\nIs this book appropriate for 13-14 year old 8th graders? We have students requesting novels with lesbian protagonists and unfortunately, I can&#39;t find many that seem appropriate for my students. Mild cursing, but I don&#39;t want it to be focused solely on the sexual identity of the character.\\n\\n\\n\\n\\nlike\\n\\n\\n\\n3 years ago\\n\\n\\nSee all 5 answers\\n\\n\\n\\n\\n\\n\\n\\n\\n\\n\\n\\n\\n\\nTaiwo | A Lifestyle Nerd \\n\\n\\nThere&apos;s not a lot of sexuality in the book. A little kissing and very little sex but that aspect is very little. The romance is actually cute. Most im\\xe2\\x80\\xa6moreThere\\'s not a lot of sexuality in the book. A little kissing and very little sex but that aspect is very little. The romance is actually cute. Most importantly, this book teaches a lot about feminism; intersectional feminism and privileged feminism. It encourages people to broaden their way of thinking and to embrace people of all sexual orientation, colour and all that. There\\'s a lot to learn from it. (less)\\n\\n\\n\\n\\n\\n\\nflag\\n\\n\\n\\n\\n\\n\\n\\n\\n\\n\\n\\n\\n\\nI read this book in 2018 and really enjoyed it! It looks like it came out in 2016. I just noticed a review in Kirkus Reviews in September 2019 and am seeing many ads for it now! Is it a different version or just being reprinted?\\n\\n\\n\\n\\nlike\\n\\n\\n\\n2 years ago\\n\\n\\nAdd your answer\\n\\n\\n\\n\\n\\n\\n\\n\\n\\n\\n\\n\\n\\nMelanie\\n\\n\\nA graphic novel was recently released, and it is being printed in paperback soon.\\n\\n\\n\\n\\n\\n\\nflag\\n\\n\\n\\n\\n\\n\\n\\n\\n\\n\\n\\n\\n\\nSee  2 questions about Juliet Takes a Breath\\xe2\\x80\\xa6\\n\\nLists with This Book  \\n    \\n          \\n            \\n\\n  \\n\\nF/F SapphicAThon Recommendations\\n\\n    319 books\\n    &mdash;\\n    103 voters\\n\\n\\n\\n\\n\\n          \\n          \\n            \\n\\n  \\n\\nDiversity Bingo 2017\\n\\n    753 books\\n    &mdash;\\n    404 voters\\n\\n\\n\\n\\n\\n          \\n    \\n  \\n\\n\\n\\nMore lists with this book...\\nCommunity Reviews\\n\\n\\n \n"
     ]
    }
   ],
   "metadata": {}
  },
  {
   "cell_type": "code",
   "execution_count": 51,
   "source": [
    "f = open('julietreviews.txt','w')\n",
    "f.write(text)\n",
    "f.close()"
   ],
   "outputs": [],
   "metadata": {}
  },
  {
   "cell_type": "code",
   "execution_count": 60,
   "source": [
    "# First, split your string into a \"bag of words\" by cutting at the whitespace into an array.\n",
    "\n",
    "f = open('julietreviews.txt','r')\n",
    "word = f.read()\n",
    "\n",
    "subject = [\"sex\", \"sexuality\", \"romance\",\"queer\", \"feminism\"]\n",
    "\n",
    "for word in subject:\n",
    "    print(word + \" mentioned\")"
   ],
   "outputs": [
    {
     "output_type": "stream",
     "name": "stdout",
     "text": [
      "sex mentioned\n",
      "sexuality mentioned\n",
      "romance mentioned\n",
      "queer mentioned\n",
      "feminism mentioned\n"
     ]
    }
   ],
   "metadata": {}
  },
  {
   "cell_type": "code",
   "execution_count": 58,
   "source": [
    "# Next, create a loop that runs through every word in your new array\n",
    "\n",
    "for word in subject:\n",
    "    if word == \"sex\":\n",
    "        continue\n",
    "    print(word)"
   ],
   "outputs": [
    {
     "output_type": "stream",
     "name": "stdout",
     "text": [
      "sexuality\n",
      "romance\n",
      "queer\n",
      "feminism\n"
     ]
    }
   ],
   "metadata": {}
  },
  {
   "cell_type": "code",
   "execution_count": 64,
   "source": [
    "# Within the loop, create some conditionals and behaviors to process the words. For instance, you might print out every word that starts with a certain letter, or print out words longer than a set length, etc. Try playing with the loop breaks and continue options to handle different types of words differently.\n",
    "\n",
    "for word in subject:\n",
    "    print(word)\n",
    "    if word == \"romance\":\n",
    "        print(\"queer love interest\")\n",
    "        continue\n",
    "    if word == \"queer\":\n",
    "        break"
   ],
   "outputs": [
    {
     "output_type": "stream",
     "name": "stdout",
     "text": [
      "sex\n",
      "sexuality\n",
      "romance\n",
      "queer love interest\n",
      "queer\n"
     ]
    }
   ],
   "metadata": {}
  }
 ],
 "metadata": {
  "orig_nbformat": 4,
  "language_info": {
   "name": "python",
   "version": "3.8.11",
   "mimetype": "text/x-python",
   "codemirror_mode": {
    "name": "ipython",
    "version": 3
   },
   "pygments_lexer": "ipython3",
   "nbconvert_exporter": "python",
   "file_extension": ".py"
  },
  "kernelspec": {
   "name": "python3",
   "display_name": "Python 3.8.11 64-bit ('base': conda)"
  },
  "interpreter": {
   "hash": "a3bce285177441cdc767e3a9c4ffb6c946df65ec3625de136fb9d1815a6425f2"
  }
 },
 "nbformat": 4,
 "nbformat_minor": 2
}