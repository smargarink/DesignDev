{
 "cells": [
  {
   "cell_type": "code",
   "execution_count": 1,
   "metadata": {},
   "outputs": [
    {
     "name": "stdout",
     "output_type": "stream",
     "text": [
      "<bound method NDFrame.head of          id  year   age     sex   race          degree            partyid  \\\n",
      "53043     1  2010  31.0    male  other        bachelor   NOT STR DEMOCRAT   \n",
      "53044     2  2010  23.0  female  white        bachelor   NOT STR DEMOCRAT   \n",
      "53045     3  2010  71.0  female  black  LT HIGH SCHOOL    STRONG DEMOCRAT   \n",
      "53046     4  2010  82.0  female  white  LT HIGH SCHOOL  STRONG REPUBLICAN   \n",
      "53047     5  2010  78.0  female  black  LT HIGH SCHOOL        independent   \n",
      "...     ...   ...   ...     ...    ...             ...                ...   \n",
      "55082  2040  2010  62.0    male  white        bachelor  STRONG REPUBLICAN   \n",
      "55083  2041  2010  66.0  female  white     HIGH SCHOOL  STRONG REPUBLICAN   \n",
      "55084  2042  2010  54.0  female  white     HIGH SCHOOL   NOT STR DEMOCRAT   \n",
      "55085  2043  2010  57.0  female  white        bachelor        independent   \n",
      "55086  2044  2010  30.0    male  white     HIGH SCHOOL        OTHER PARTY   \n",
      "\n",
      "               happy  \n",
      "53043   PRETTY HAPPY  \n",
      "53044  NOT TOO HAPPY  \n",
      "53045  NOT TOO HAPPY  \n",
      "53046  NOT TOO HAPPY  \n",
      "53047     VERY HAPPY  \n",
      "...              ...  \n",
      "55082   PRETTY HAPPY  \n",
      "55083  NOT TOO HAPPY  \n",
      "55084     VERY HAPPY  \n",
      "55085   PRETTY HAPPY  \n",
      "55086   PRETTY HAPPY  \n",
      "\n",
      "[2044 rows x 8 columns]>\n"
     ]
    }
   ],
   "source": [
    "import pandas as pd\n",
    "\n",
    "# we restrict this (very large) dataset to the variables of interest\n",
    "columns = ['id', 'year', 'age', 'sex', 'race', 'degree', 'partyid','happy']\n",
    "df = pd.read_stata(\"GSS7218_R1.dta\", columns=columns)\n",
    "\n",
    "# further limit dataset to the years we are interested in\n",
    "df = df.loc[df['year'].isin({2010})]\n",
    "print(df.head)"
   ]
  }
 ],
 "metadata": {
  "interpreter": {
   "hash": "260556d7196b2a521c66178a7d32a40a7875a519cf758c158bc134912987d078"
  },
  "kernelspec": {
   "display_name": "Python 3.8.11 64-bit ('base': conda)",
   "name": "python3"
  },
  "language_info": {
   "codemirror_mode": {
    "name": "ipython",
    "version": 3
   },
   "file_extension": ".py",
   "mimetype": "text/x-python",
   "name": "python",
   "nbconvert_exporter": "python",
   "pygments_lexer": "ipython3",
   "version": "3.8.11"
  },
  "orig_nbformat": 4
 },
 "nbformat": 4,
 "nbformat_minor": 2
}
