{
 "cells": [
  {
   "cell_type": "code",
   "execution_count": 2,
   "metadata": {},
   "outputs": [
    {
     "name": "stdout",
     "output_type": "stream",
     "text": [
      "<bound method NDFrame.head of          id  year   age     sex      grass          degree            partyid  \\\n",
      "53043     1  2010  31.0    male        NaN        bachelor   NOT STR DEMOCRAT   \n",
      "53044     2  2010  23.0  female      legal        bachelor   NOT STR DEMOCRAT   \n",
      "53045     3  2010  71.0  female        NaN  LT HIGH SCHOOL    STRONG DEMOCRAT   \n",
      "53046     4  2010  82.0  female  NOT LEGAL  LT HIGH SCHOOL  STRONG REPUBLICAN   \n",
      "53047     5  2010  78.0  female  NOT LEGAL  LT HIGH SCHOOL        independent   \n",
      "...     ...   ...   ...     ...        ...             ...                ...   \n",
      "55082  2040  2010  62.0    male        NaN        bachelor  STRONG REPUBLICAN   \n",
      "55083  2041  2010  66.0  female  NOT LEGAL     HIGH SCHOOL  STRONG REPUBLICAN   \n",
      "55084  2042  2010  54.0  female      legal     HIGH SCHOOL   NOT STR DEMOCRAT   \n",
      "55085  2043  2010  57.0  female      legal        bachelor        independent   \n",
      "55086  2044  2010  30.0    male      legal     HIGH SCHOOL        OTHER PARTY   \n",
      "\n",
      "               happy  \n",
      "53043   PRETTY HAPPY  \n",
      "53044  NOT TOO HAPPY  \n",
      "53045  NOT TOO HAPPY  \n",
      "53046  NOT TOO HAPPY  \n",
      "53047     VERY HAPPY  \n",
      "...              ...  \n",
      "55082   PRETTY HAPPY  \n",
      "55083  NOT TOO HAPPY  \n",
      "55084     VERY HAPPY  \n",
      "55085   PRETTY HAPPY  \n",
      "55086   PRETTY HAPPY  \n",
      "\n",
      "[2044 rows x 8 columns]>\n"
     ]
    }
   ],
   "source": [
    "import pandas as pd\n",
    "\n",
    "# we restrict this (very large) dataset to the variables of interest\n",
    "columns = ['id', 'year', 'age', 'sex', 'grass', 'degree', 'partyid','happy']\n",
    "df = pd.read_stata(\"GSS7218_R1.dta\", columns=columns)\n",
    "\n",
    "# further limit dataset to the years we are interested in\n",
    "df = df.loc[df['year'].isin({2010})]\n",
    "print(df.head)"
   ]
  },
  {
   "cell_type": "code",
   "execution_count": 3,
   "metadata": {},
   "outputs": [
    {
     "name": "stdout",
     "output_type": "stream",
     "text": [
      "<bound method NDFrame.head of          id  year   age     sex      grass          degree            partyid  \\\n",
      "53044     2  2010  23.0  female      legal        bachelor   NOT STR DEMOCRAT   \n",
      "53046     4  2010  82.0  female  NOT LEGAL  LT HIGH SCHOOL  STRONG REPUBLICAN   \n",
      "53047     5  2010  78.0  female  NOT LEGAL  LT HIGH SCHOOL        independent   \n",
      "53048     6  2010  40.0    male      legal  LT HIGH SCHOOL    STRONG DEMOCRAT   \n",
      "53051     9  2010  31.0  female  NOT LEGAL     HIGH SCHOOL    STRONG DEMOCRAT   \n",
      "...     ...   ...   ...     ...        ...             ...                ...   \n",
      "55081  2039  2010  63.0    male  NOT LEGAL     HIGH SCHOOL       IND,NEAR REP   \n",
      "55083  2041  2010  66.0  female  NOT LEGAL     HIGH SCHOOL  STRONG REPUBLICAN   \n",
      "55084  2042  2010  54.0  female      legal     HIGH SCHOOL   NOT STR DEMOCRAT   \n",
      "55085  2043  2010  57.0  female      legal        bachelor        independent   \n",
      "55086  2044  2010  30.0    male      legal     HIGH SCHOOL        OTHER PARTY   \n",
      "\n",
      "               happy  \n",
      "53044  NOT TOO HAPPY  \n",
      "53046  NOT TOO HAPPY  \n",
      "53047     VERY HAPPY  \n",
      "53048   PRETTY HAPPY  \n",
      "53051     VERY HAPPY  \n",
      "...              ...  \n",
      "55081  NOT TOO HAPPY  \n",
      "55083  NOT TOO HAPPY  \n",
      "55084     VERY HAPPY  \n",
      "55085   PRETTY HAPPY  \n",
      "55086   PRETTY HAPPY  \n",
      "\n",
      "[1255 rows x 8 columns]>\n"
     ]
    }
   ],
   "source": [
    "# limit dataset to exclude records from individuals who didn't answer this survey\n",
    "df = df.loc[df['grass'].notna()]\n",
    "\n",
    "#remove people with no value for age\n",
    "df = df.loc[df['happy'].notna()]\n",
    "print(df.head)"
   ]
  },
  {
   "cell_type": "code",
   "execution_count": 5,
   "metadata": {},
   "outputs": [
    {
     "name": "stdout",
     "output_type": "stream",
     "text": [
      "47.962519936204146\n"
     ]
    },
    {
     "data": {
      "image/png": "[encoded data removed]",
      "text/plain": [
       "<Figure size 432x288 with 1 Axes>"
      ]
     },
     "metadata": {
      "needs_background": "light"
     },
     "output_type": "display_data"
    }
   ],
   "source": [
    "df = df.replace('89 OR OLDER', 89)\n",
    "df['age'] = pd.to_numeric(df['age'])\n",
    "print(df['age'].mean())\n",
    "\n",
    "import matplotlib.pyplot as plt\n",
    "df.groupby('grass')['age'].mean().plot(kind='barh')\n",
    "plt.xlabel('Mean Age of Marijuana supporters')\n",
    "plt.legend();"
   ]
  },
  {
   "cell_type": "code",
   "execution_count": 8,
   "metadata": {},
   "outputs": [
    {
     "data": {
      "image/png": "[encoded data removed]",
      "text/plain": [
       "<Figure size 432x288 with 1 Axes>"
      ]
     },
     "metadata": {},
     "output_type": "display_data"
    }
   ],
   "source": [
    "grass_counts = df['grass'].value_counts()\n",
    "labels=[\"legal\",\"Not Legal\"]\n",
    "colors=[\"#ff9999\",\"#99ff99\"]\n",
    "explode = (0, 0.1)\n",
    "fig1, ax1 = plt.subplots()\n",
    "ax1.pie(grass_counts, explode=explode, labels=labels, colors=colors, autopct='%1.1f%%', shadow=True, startangle=90)\n",
    "ax1.axis('equal')  \n",
    "plt.tight_layout()\n",
    "plt.show()\n"
   ]
  },
  {
   "cell_type": "code",
   "execution_count": 9,
   "metadata": {},
   "outputs": [
    {
     "data": {
      "text/plain": [
       "grass            \n",
       "legal      female    308\n",
       "           male      295\n",
       "NOT LEGAL  female    400\n",
       "           male      252\n",
       "Name: sex, dtype: int64"
      ]
     },
     "execution_count": 9,
     "metadata": {},
     "output_type": "execute_result"
    }
   ],
   "source": [
    "exhibition_gender = df.groupby('grass')['sex'].value_counts()\n",
    "exhibition_gender"
   ]
  }
 ],
 "metadata": {
  "interpreter": {
   "hash": "260556d7196b2a521c66178a7d32a40a7875a519cf758c158bc134912987d078"
  },
  "kernelspec": {
   "display_name": "Python 3.8.11 64-bit ('base': conda)",
   "name": "python3"
  },
  "language_info": {
   "codemirror_mode": {
    "name": "ipython",
    "version": 3
   },
   "file_extension": ".py",
   "mimetype": "text/x-python",
   "name": "python",
   "nbconvert_exporter": "python",
   "pygments_lexer": "ipython3",
   "version": "3.8.11"
  },
  "orig_nbformat": 4
 },
 "nbformat": 4,
 "nbformat_minor": 2
}
