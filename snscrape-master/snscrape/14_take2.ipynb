{
 "cells": [
  {
   "cell_type": "markdown",
   "metadata": {},
   "source": [
    "# Exercise Fourteen: Project Design Starter\n",
    "In this exercise, you'll be planning out a complex project. You'll draw in some code, but focus on commenting to describe your project structure. The sample document below will guide you through organizing and annotating your project design. The primary components you'll include are:\n",
    "\n",
    "- Dependencies: What modules will your project need?\n",
    "- Collection: Where is your data coming from?\n",
    "- Processing: How will you format and process your data?\n",
    "- Analysis: What techniques will you use to understand your data?\n",
    "- Visualization: How will you visualize and explore your data?"
   ]
  },
  {
   "cell_type": "markdown",
   "metadata": {},
   "source": [
    "# Project Overview\n",
    "I plan on extracting information from Twitter using #BlerDCon. BlerDcon is a convention — the event’s name signals that it specifically caters to blerds (black nerds), BlerDCon is an inclusive space for all POC, LGBTQ+, female, and disabled fans. Pulling data from the 2021 convention, I seek to gather more information and insight into the topics dicussed around this venue and the sentiments of the participants. \n",
    "\n",
    "I noticed that a lot of people were upset about a cosplay contest being won by a white woman and a lot of people were reasonably upset and irriatated - especially since the convention id dedicated to \"Black Nerds\" and is intended to be a safe place for Queer POC specifically.\n",
    "\n",
    "I wanted to pull twitter comments (since thats where I found the most activity on the topic) to seach sentiments around the topic and see how it was being discussed. "
   ]
  },
  {
   "cell_type": "markdown",
   "metadata": {},
   "source": [
    "# Dependencies\n",
    "Importing modules to extract data from hastags on twitter, compile that information into a digestible list, and then use that info to create visualizations for the data."
   ]
  },
  {
   "cell_type": "code",
   "execution_count": 2,
   "metadata": {},
   "outputs": [],
   "source": [
    "# Importing Config to pull credentials for Twitter API\n",
    "import configparser\n",
    "\n",
    "#Importing Twitter API\n",
    "import tweepy\n",
    "\n",
    "#To turn data into a CSV file\n",
    "import csv\n",
    "\n",
    "#Importing to help extract data\n",
    "import requests\n",
    "from bs4 import BeautifulSoup\n",
    "\n",
    "#Importing to map out geographical locations of responses\n",
    "from geopy.geocoders import Nominatim\n",
    "from geopy.extra.rate_limiter import RateLimiter\n",
    "\n",
    "#importing to plot findings in visualization\n",
    "import matplotlib.pyplot as plt\n",
    "\n",
    "#importing for map visualization\n",
    "import cartopy.crs as ccrs\n",
    "from matplotlib.patches import Circle\n",
    "\n",
    "#importing to assist in compliling \n",
    "import re\n",
    "\n",
    "#Importing for punctuation\n",
    "from nltk.tokenize import WordPunctTokenizer\n",
    "\n",
    "#importing to make a wordcloud for visualizations\n",
    "from wordcloud import WordCloud, STOPWORDS\n",
    "\n",
    "#To turn work cloud into an image\n",
    "import numpy as np\n",
    "from PIL import Image\n",
    "import random\n",
    "\n",
    "#Importing to gather sentiments from comments\n",
    "import nltk.data\n",
    "from nltk.sentiment.vader import SentimentIntensityAnalyzer\n",
    "from nltk import sentiment\n",
    "from nltk import word_tokenize\n",
    "\n",
    "# Importing Pandas to handle collected Twitter data \n",
    "import pandas as pd\n",
    "\n",
    "#trying a new scraper since Tweepy only pulls recent tweets\n",
    "import snscrape.modules.twitter as sntwitter"
   ]
  },
  {
   "cell_type": "markdown",
   "metadata": {},
   "source": [
    "# Collection\n",
    "Collecting data from recent 2021 convention hastag #BlerDcon. Starting date from pull will begin 01-01-2021 to current time. This can be changed later to look into other year conventions. \n",
    "\n",
    "Tried to change to #BlerDCon to widen paramaters, but since I got this new way to work I went back to the specific convention.\n",
    "\n",
    "I checked other avenues of collecting \"customer feedback\" but Twitter seems to contain the most."
   ]
  },
  {
   "cell_type": "code",
   "execution_count": 1,
   "metadata": {},
   "outputs": [],
   "source": [
    "#Scraping Twitter for tweets with \"BlerDCon2021\" and gathering them onto a CSV file.\n",
    "keyword = 'BlerDCon2021'\n",
    "maxTweets = 30000\n",
    "\n",
    "#Open/create a file to append data to\n",
    "csvFile = open('BlerDCon2021.csv', 'a', newline='', encoding='utf8')\n",
    "\n",
    "#Use csv writer\n",
    "csvWriter = csv.writer(csvFile)\n",
    "csvWriter.writerow(['id','date','tweet'])\n",
    "\n",
    "for i,tweet in enumerate(sntwitter.TwitterSearchScraper(keyword + ' since:2021-06-01 until:2021-12-16').get_items()) :\n",
    "        if i > maxTweets :\n",
    "            break\n",
    "        csvWriter.writerow([tweet.id, tweet.date, tweet.renderedContent])\n",
    "csvFile.close()"
   ]
  },
  {
   "cell_type": "markdown",
   "metadata": {},
   "source": [
    "# Processing\n",
    "\n",
    "The goal here is to process the csv in a way that can be used for keyword analaysis, for a word cloud, but also check for frequency of certain key topics ot key points. "
   ]
  },
  {
   "cell_type": "code",
   "execution_count": 3,
   "metadata": {},
   "outputs": [
    {
     "name": "stdout",
     "output_type": "stream",
     "text": [
      "id        int64\n",
      "date     object\n",
      "tweet    object\n",
      "dtype: object\n"
     ]
    }
   ],
   "source": [
    "df = pd.read_csv('BlerDCon2021.csv')\n",
    "\n",
    "# Prints how pd will structure data types\n",
    "print(df.dtypes)"
   ]
  },
  {
   "cell_type": "code",
   "execution_count": 8,
   "metadata": {},
   "outputs": [
    {
     "name": "stdout",
     "output_type": "stream",
     "text": [
      "                      id                       date  \\\n",
      "0    1465358257116098566  2021-11-29 16:33:28+00:00   \n",
      "1    1459195661610631179  2021-11-12 16:25:30+00:00   \n",
      "2    1454791727311642625  2021-10-31 12:45:51+00:00   \n",
      "3    1451208032088641547  2021-10-21 15:25:31+00:00   \n",
      "4    1448309267992350721  2021-10-13 15:26:52+00:00   \n",
      "..                   ...                        ...   \n",
      "832  1406028237000564744  2021-06-18 23:17:09+00:00   \n",
      "833  1404281025296056328  2021-06-14 03:34:21+00:00   \n",
      "834  1402462042049626113  2021-06-09 03:06:21+00:00   \n",
      "835  1400996999860793347  2021-06-05 02:04:48+00:00   \n",
      "836  1400587817361739782  2021-06-03 22:58:51+00:00   \n",
      "\n",
      "                                                 tweet  \n",
      "0    @noobde My favorite Mortal Kombat character si...  \n",
      "1    Happy Friday from ur favorite digimon team eve...  \n",
      "2    Cosplayers at a con VS Cosplayers on Halloween...  \n",
      "3    Mood!! n it's only 11am 🤣, blerdcon was def a ...  \n",
      "4    Tai n her partner digimon! Can't wait to do an...  \n",
      "..                                                 ...  \n",
      "832  Featuring- Invisible man (twice) and #shinsouh...  \n",
      "833                   Are you going to #Blerdcon2021 ?  \n",
      "834  At #Blerdcon2021? Maybe.\\n\\n#Otakon2021? Ehhh....  \n",
      "835  otakon.com/info/covid/?fb…\\n\\nYeah, with no pr...  \n",
      "836  If you aren't following my alt. IG page (/hazz...  \n",
      "\n",
      "[837 rows x 3 columns]\n"
     ]
    }
   ],
   "source": [
    "#printing all of it\n",
    "df = pd.read_csv ('BlerDCon2021.csv')\n",
    "print(df)"
   ]
  },
  {
   "cell_type": "code",
   "execution_count": 4,
   "metadata": {},
   "outputs": [
    {
     "data": {
      "text/html": [
       "<div>\n",
       "<style scoped>\n",
       "    .dataframe tbody tr th:only-of-type {\n",
       "        vertical-align: middle;\n",
       "    }\n",
       "\n",
       "    .dataframe tbody tr th {\n",
       "        vertical-align: top;\n",
       "    }\n",
       "\n",
       "    .dataframe thead th {\n",
       "        text-align: right;\n",
       "    }\n",
       "</style>\n",
       "<table border=\"1\" class=\"dataframe\">\n",
       "  <thead>\n",
       "    <tr style=\"text-align: right;\">\n",
       "      <th></th>\n",
       "      <th>id</th>\n",
       "      <th>date</th>\n",
       "    </tr>\n",
       "    <tr>\n",
       "      <th>tweet</th>\n",
       "      <th></th>\n",
       "      <th></th>\n",
       "    </tr>\n",
       "  </thead>\n",
       "  <tbody>\n",
       "    <tr>\n",
       "      <th>@noobde My favorite Mortal Kombat character since 1992...SUB-ZERO...Me as Sub-Zero and @BanzaiWolf_FC (Noob Saibot) and my friend Launa as Sindel :) #BlerDCon2021 https://t.co/bQQSAIQ2hv</th>\n",
       "      <td>1465358257116098566</td>\n",
       "      <td>2021-11-29 16:33:28+00:00</td>\n",
       "    </tr>\n",
       "    <tr>\n",
       "      <th>Happy Friday from ur favorite digimon team everyone! \\nTai: @UnderCover16  \\nBlackwargreymon: Swaggy\\n\\n#tai #blackwargreymon #wargreymon #digimon #cosplayers #blerdcon2021 #digimoncosplay https://t.co/cp1zKrhKh4</th>\n",
       "      <td>1459195661610631179</td>\n",
       "      <td>2021-11-12 16:25:30+00:00</td>\n",
       "    </tr>\n",
       "    <tr>\n",
       "      <th>Cosplayers at a con VS Cosplayers on Halloween\\n.\\n.\\n#Hyoga - 1st pic..made this cosplay\\n#SteveUrkel - Quick #closetcosplay\\n\\nLol p.s. I love seeing everyone bring it \\n.\\n.\\n#convshalloween #DrStone #familymatters #steveurkel  #happyholloween  #blerdcon2021 #sexynerd #wendellcosplays https://t.co/c06kViw7ls</th>\n",
       "      <td>1454791727311642625</td>\n",
       "      <td>2021-10-31 12:45:51+00:00</td>\n",
       "    </tr>\n",
       "    <tr>\n",
       "      <th>Mood!! n it's only 11am 🤣, blerdcon was def a good time!\\nPhoto taken by: @majide.photography \\n\\n#duffman #blerdcon2021 #thesimpsons #cosplay #tbt https://t.co/SqxapO3QLC</th>\n",
       "      <td>1451208032088641547</td>\n",
       "      <td>2021-10-21 15:25:31+00:00</td>\n",
       "    </tr>\n",
       "    <tr>\n",
       "      <th>Tai n her partner digimon! Can't wait to do another digimon cosplay wit someone again!\\nTai: @UnderCover16  \\nBlackwargreymon: swaggy\\n\\n#digimon #blackwargreymon #tai #digimoncosplay #cosplayer #blerdcon2021 https://t.co/1kuudD7zPO</th>\n",
       "      <td>1448309267992350721</td>\n",
       "      <td>2021-10-13 15:26:52+00:00</td>\n",
       "    </tr>\n",
       "  </tbody>\n",
       "</table>\n",
       "</div>"
      ],
      "text/plain": [
       "                                                                     id  \\\n",
       "tweet                                                                     \n",
       "@noobde My favorite Mortal Kombat character sin...  1465358257116098566   \n",
       "Happy Friday from ur favorite digimon team ever...  1459195661610631179   \n",
       "Cosplayers at a con VS Cosplayers on Halloween\\...  1454791727311642625   \n",
       "Mood!! n it's only 11am 🤣, blerdcon was def a g...  1451208032088641547   \n",
       "Tai n her partner digimon! Can't wait to do ano...  1448309267992350721   \n",
       "\n",
       "                                                                         date  \n",
       "tweet                                                                          \n",
       "@noobde My favorite Mortal Kombat character sin...  2021-11-29 16:33:28+00:00  \n",
       "Happy Friday from ur favorite digimon team ever...  2021-11-12 16:25:30+00:00  \n",
       "Cosplayers at a con VS Cosplayers on Halloween\\...  2021-10-31 12:45:51+00:00  \n",
       "Mood!! n it's only 11am 🤣, blerdcon was def a g...  2021-10-21 15:25:31+00:00  \n",
       "Tai n her partner digimon! Can't wait to do ano...  2021-10-13 15:26:52+00:00  "
      ]
     },
     "execution_count": 4,
     "metadata": {},
     "output_type": "execute_result"
    }
   ],
   "source": [
    "#Setting parameter of the users tweet\n",
    "df = pd.read_csv('BlerDCon2021.csv')\n",
    "df = df.set_index('tweet')\n",
    "df.head()"
   ]
  },
  {
   "cell_type": "markdown",
   "metadata": {},
   "source": [
    "# Analysis\n",
    "Would like to analyze the CSV file for common key terms and number of times a topic is mentioned. From their try to build out sentiments of users. \n",
    "\n",
    "Changed the code to focus on tweets from people who used to word \"white\" -- should append the file in the future to only hold those comments to serve as the dataset. I believe I also have to turn this into a txt file and then it might be easier to collect keywords and build out from there.\n",
    "\n"
   ]
  },
  {
   "cell_type": "code",
   "execution_count": 10,
   "metadata": {},
   "outputs": [
    {
     "name": "stdout",
     "output_type": "stream",
     "text": [
      "1425117591685709825,2021-08-10 15:31:25+00:00,Perfect example of white entitlement. They think should be included in everything and anything. #blerdcon #blerdcon2021 #whiteprivilege #entitlement. https://t.co/wlZ3gIOnE7\n",
      "\n",
      "1422565418665971712,2021-08-03 14:30:00+00:00,\"The Devil works hard but #BlackTikTok works even harder. I was able to find Hilton's deleted FB live video that he deleted after the white cosplay winner announced she was stepping down. Let's see what he said: youtu.be/PLqp_DFEOT0\n",
      "\n",
      "1420168963976306699,2021-07-27 23:47:21+00:00,\"I was working on a update video on this development when a commentor informed me that white cosplayers did won the blerdcon cosplay contest in previous years: Two times before!\n",
      "\n",
      "The Caucasian white cosplayer who was cosplaying Sakura from Cardcaptor Sakura who won blerdcons 2021 cosplay contest has stepped down and a new winner has been  announced to the dismay of people who actually think she earned it.\n",
      "\n",
      "1418525096990412801,2021-07-23 10:55:12+00:00,\"Someone please explain to me how the #blerDCon2021 Cosplay Contest winner being a white woman is wrong. One… #Cosplay is for everyone Two… It’s not a black only convention. I saw many white allies. It’s inclusive of white allies, the LGBTQ and the disability community\"\n",
      "\n",
      "1417990518949261314,2021-07-21 23:30:59+00:00,\"There are Black people…fighting for white people right…to be in spaces CREATED for US…because of the discrimination we face in white spaces. 👏🏾LET 👏🏾THAT 👏🏾SINK 👏🏾IN.\n",
      "\n",
      "The Blerdcon 2021 Cosplay Contest Controversy on how a young white cosplayer won the contest on merit while most attendees think where the winner should be decided on skin color.\n",
      "\n",
      "So ontop of not taking into account everything I just explained that would justify the anger of having a white person win- they contradict the 80% for ”completed work  as a whole” https://t.co/u9PNsaOsAF\"\n",
      "\n",
      "1417670209566040066,2021-07-21 02:18:11+00:00,I personally was there at the Con and beside the cosplay stuff the Con is actually fun and dope seeing so many BLK ppl there. With that being said I still stand by that the winner shouldn't have won. Idec she was white but to me there was better cosplays than hers #blerDCon2021\n",
      "\n",
      "\"\"If we exclude white people we're as bad as the majority?\"\"\n",
      "\n",
      "1417584217349885955,2021-07-20 20:36:29+00:00,\"And ATTENDEES.  ORGANIZERS. STAFF... the way yall put your cosplay capes back on and rushed to defend this white woman... I've never seen anything like this. Truly. #blerDCon2021\n",
      "\n",
      "1417512387431866370,2021-07-20 15:51:03+00:00,\"Chilllleeee, I just want one year where I don't see #blerDCon2021 on some embarrassing bullshit. This year their first place cosplay contest winner was a white woman and I am confusion. Watch the full video on #YouTube youtu.be/hn39Y4sO_vQ https://t.co/TyfetVvneV\"\n",
      "\n",
      "1417454411161423873,2021-07-20 12:00:41+00:00,\"Plz explain to me why the cosplay contest winner being white is a issue ?It wasnt a black only con, white people were invited, they were also allowed to be in the contest. I don’t think she should have won, but what does her being white have to do wit anything? #blerDCon2021\"\n",
      "\n",
      "1417291045361135624,2021-07-20 01:11:31+00:00,\"The highlighted part was y'all first warning that Blerdcon was going to be on some bullshit.  The white girl winning the cosplay contest was the icing on the cake.\n",
      "\n",
      "1417250636761022471,2021-07-19 22:30:57+00:00,\"How did a white person won first prize in the cosplay competition at #BlerdCon2021 when this is literally what Blerd Con is. 😫\n",
      "\n",
      "1417242049699532803,2021-07-19 21:56:50+00:00,How y’all let a white woman win a cosplay contest at #blerDCon2021 lmaooooo https://t.co/BNKjN1hOfz\n",
      "\n",
      "1417193843469037576,2021-07-19 18:45:17+00:00,\"But look at me and @sailorxtasy though 🥺💖✨. Just a couple of white-haired cuties!!! Con woes already setting in!\n",
      "\n",
      "1416619512342908929,2021-07-18 04:43:05+00:00,Day 1 of Em Cosplaying for the first time... first costume was baby sailor moon... second costume was baby snow white... this costume was baby Sally #Blerdcon #Blerdcon2021 #ChocolateCity #ConBaby #BabyBlerd #BlerdBaby instagram.com/p/CRdJ095hp7K/…\n",
      "\n",
      "1416470333889159170,2021-07-17 18:50:19+00:00,Like goddamn. This is what happens when a booth is staffed only by white people forgets to cater to #blackfae at an event specifically catering towards them. #blerDCon2021\n",
      "\n"
     ]
    }
   ],
   "source": [
    " #searching for \"white\" as keyword in CSV to look for comments specific to controversy around 2021 cosplay winner.\n",
    " #winner was a white woman at a convention specific to \"Black Nerds\"\n",
    " with open('BlerDCon2021.csv', 'r') as f:\n",
    "    for line in f.readlines():\n",
    "        if 'white' in line:\n",
    "            print(line)"
   ]
  },
  {
   "cell_type": "markdown",
   "metadata": {},
   "source": [
    "# Visualization\n",
    "The goal was to create a word cloud with common topics from the hashtag and place it over the logo for the conference. A Bokeh chart would be helpful here as well.\n",
    "\n",
    "I think in the future, I can review keytopics from CSV and categorize them, so that visualizations will be easier and make sense."
   ]
  }
 ],
 "metadata": {
  "interpreter": {
   "hash": "31f2aee4e71d21fbe5cf8b01ff0e069b9275f58929596ceb00d14d90e3e16cd6"
  },
  "kernelspec": {
   "display_name": "Python 3.8.2 64-bit",
   "language": "python",
   "name": "python3"
  },
  "language_info": {
   "codemirror_mode": {
    "name": "ipython",
    "version": 3
   },
   "file_extension": ".py",
   "mimetype": "text/x-python",
   "name": "python",
   "nbconvert_exporter": "python",
   "pygments_lexer": "ipython3",
   "version": "3.8.11"
  },
  "orig_nbformat": 4
 },
 "nbformat": 4,
 "nbformat_minor": 2
}
