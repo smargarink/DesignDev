{
 "cells": [
  {
   "cell_type": "markdown",
   "source": [
    "# Stage One: Import at least three documents you would like to compare (from text files, or using another format for a challenge.)\n",
    "\n",
    "1. Used The Gutenburg project to collect txt files\n",
    "2. Decided on Fairy tales : Japanese, Russian, and American.\n",
    "3. After saving the .txt files, I imported them into this notebook."
   ],
   "metadata": {}
  },
  {
   "cell_type": "code",
   "execution_count": 9,
   "source": [
    "import nltk\n",
    "import nltk.tokenize\n",
    "\n",
    "# download the most recent punkt package\n",
    "nltk.download('punkt', quiet=True)\n",
    "\n",
    "corpus = [\"american_fairytales.txt\",\"japanese_fairytales.txt\",\"russian_fairytales.txt\"]\n",
    "titles = [\"American\", \"Japanese\", \"Russian\"]\n",
    "documents = []\n",
    "for url in corpus:\n",
    "    f = open(url, encoding='utf-8')\n",
    "    text = f.read()\n",
    "    documents.append(text)\n",
    "print(documents[1][0:100])"
   ],
   "outputs": [
    {
     "output_type": "stream",
     "name": "stdout",
     "text": [
      "The Project Gutenberg EBook of Japanese Fairy Tales, by Yei Theodora Ozaki\n",
      "\n",
      "This eBook is for the u\n"
     ]
    }
   ],
   "metadata": {}
  },
  {
   "cell_type": "markdown",
   "source": [
    "# Step Two: Preprocess the text and create a tokenized corpus from the text of the imported documents.\n",
    "\n",
    "1. Dealt with punctuation \n",
    "2. coverted to lowercase and tokenized \n",
    "3. test"
   ],
   "metadata": {}
  },
  {
   "cell_type": "code",
   "execution_count": 10,
   "source": [
    "#punctuation\n",
    "import re\n",
    "\n",
    "\n",
    "PUNCT_RE = re.compile(r'[^\\w\\s]+$')\n",
    "\n",
    "\n",
    "def is_punct(string):\n",
    "    \"\"\"Check if STRING is a punctuation marker or a sequence of\n",
    "       punctuation markers.\n",
    "    \"\"\"\n",
    "    return PUNCT_RE.match(string) is not None"
   ],
   "outputs": [],
   "metadata": {}
  },
  {
   "cell_type": "code",
   "execution_count": 11,
   "source": [
    "#covert to lowercase\n",
    "\n",
    "def preprocess_text(text, language, lowercase=True):\n",
    "    \"\"\"Preprocess a text.\n",
    "\n",
    "    Perform a text preprocessing procedure, which transforms a string\n",
    "    object into a list of word tokens without punctuation markers.\n",
    "\n",
    "    \"\"\"\n",
    "    if lowercase:\n",
    "        text = text.lower()\n",
    "    tokens = nltk.tokenize.word_tokenize(text, language=language)\n",
    "    tokens = [token for token in tokens if not is_punct(token)]\n",
    "    return tokens"
   ],
   "outputs": [],
   "metadata": {}
  },
  {
   "cell_type": "code",
   "execution_count": 12,
   "source": [
    "#test\n",
    "\n",
    "tokenized = []\n",
    "for text in documents:\n",
    "    tokenized.append(preprocess_text(text, \"english\"))\n",
    "\n",
    "print(tokenized[0][25])"
   ],
   "outputs": [
    {
     "output_type": "stream",
     "name": "stdout",
     "text": [
      "with\n"
     ]
    }
   ],
   "metadata": {}
  },
  {
   "cell_type": "markdown",
   "source": [
    "# Step Three: Create a document term matrix to enable comparative textual analysis across the full set of documents\n",
    "   \n",
    "1. Basically making a searchable vocabulary"
   ],
   "metadata": {}
  },
  {
   "cell_type": "code",
   "execution_count": 13,
   "source": [
    "def extract_vocabulary(tokenized_corpus, min_count=1, max_count=float('inf')):\n",
    "    \"\"\"Extract a vocabulary from a tokenized corpus.\n",
    "\n",
    "    Arguments:\n",
    "        tokenized_corpus (list): a tokenized corpus represented, list\n",
    "            of lists of strings.\n",
    "        min_count (int, optional): the minimum occurrence count of a\n",
    "            vocabulary item in the corpus.\n",
    "        max_count (int, optional): the maximum occurrence count of a\n",
    "            vocabulary item in the corpus. Defaults to inf.\n",
    "\n",
    "    Returns:\n",
    "        list: An alphabetically ordered list of unique words in the\n",
    "            corpus, of which the frequencies adhere to the specified\n",
    "            minimum and maximum count.\n",
    "\n",
    "    Examples:\n",
    "        >>> corpus = [['the', 'man', 'love', 'man', 'the'],\n",
    "                      ['the', 'love', 'book', 'wise', 'drama'],\n",
    "                      ['a', 'story', 'book', 'drama']]\n",
    "        >>> extract_vocabulary(corpus, min_count=2)\n",
    "        ['book', 'drama', 'love', 'man', 'the']\n",
    "\n",
    "    \"\"\"\n",
    "    vocabulary = collections.Counter()\n",
    "    for document in tokenized_corpus:\n",
    "        vocabulary.update(document)\n",
    "    vocabulary = {word for word, count in vocabulary.items()\n",
    "                  if count >= min_count and count <= max_count}\n",
    "    return sorted(vocabulary)\n",
    "import collections\n",
    "vocabulary = extract_vocabulary(tokenized, min_count=2)\n",
    "print(vocabulary[0:100])"
   ],
   "outputs": [
    {
     "output_type": "stream",
     "name": "stdout",
     "text": [
      "[\"'as\", \"'as-is\", \"'complete\", \"'crack\", \"'d\", \"'em\", \"'get\", \"'god\", \"'if\", \"'let\", \"'ll\", \"'m\", \"'maiden\", \"'n\", \"'oh\", \"'osip\", \"'perhaps\", \"'re\", \"'s\", \"'sleep\", \"'t\", \"'til\", \"'to\", \"'ve\", \"'water\", '//gutenberg.org/license', '//pglaf.org', '//pglaf.org/donate', '//pglaf.org/fundraising', '//www.gutenberg.org', '//www.pgdp.net', '//www.pglaf.org', '1', '1.', '1.a', '1.b', '1.c', '1.d', '1.e', '1.e.1', '1.e.2', '1.e.3', '1.e.4', '1.e.5', '1.e.6', '1.e.7', '1.e.8', '1.e.9', '1.f', '1.f.1', '1.f.2', '1.f.3', '1.f.4', '1.f.5', '1.f.6', '10', '100', '101', '102', '103', '104', '105', '106', '107', '108', '109', '11', '11.', '110', '110-13', '111', '112', '113', '114', '115', '116', '117', '118', '119', '119-124', '12', '120', '121', '122', '123', '124', '125', '126', '127', '128', '129', '13', '13.', '130', '131', '132', '133', '134', '135', '136']\n"
     ]
    }
   ],
   "metadata": {}
  },
  {
   "cell_type": "markdown",
   "source": [
    "# Step Four: Chart at least one comparison between the documents, using word frequency to map the text\n",
    "\n",
    "1. Make a comparison between the words \"good\" and \"bad\"\n",
    "2. Graph it out\n",
    "3. I noticed the titles of the books were too long for the graph, so I went back to change them to be one word."
   ],
   "metadata": {}
  },
  {
   "cell_type": "code",
   "execution_count": 14,
   "source": [
    "def corpus2dtm(tokenized_corpus, vocabulary):\n",
    "    \"\"\"Transform a tokenized corpus into a document-term matrix.\n",
    "\n",
    "    Arguments:\n",
    "        tokenized_corpus (list): a tokenized corpus as a list of\n",
    "        lists of strings. vocabulary (list): An list of unique words.\n",
    "\n",
    "    Returns:\n",
    "        list: A list of lists representing the frequency of each term\n",
    "              in `vocabulary` for each document in the corpus.\n",
    "\n",
    "    Examples:\n",
    "        >>> tokenized_corpus = [['the', 'man', 'man', 'smart'],\n",
    "                                ['a', 'the', 'man' 'love'],\n",
    "                                ['love', 'book', 'journey']]\n",
    "        >>> vocab = ['book', 'journey', 'man', 'love']\n",
    "        >>> corpus2dtm(tokenized_corpus, vocabulary)\n",
    "        [[0, 0, 2, 0], [0, 0, 1, 1], [1, 1, 0, 1]]\n",
    "\n",
    "    \"\"\"\n",
    "    document_term_matrix = []\n",
    "    for document in tokenized_corpus:\n",
    "        document_counts = collections.Counter(document)\n",
    "        row = [document_counts[word] for word in vocabulary]\n",
    "        document_term_matrix.append(row)\n",
    "    return document_term_matrix\n",
    "\n",
    "import numpy as np\n",
    "\n",
    "document_term_matrix = np.array(corpus2dtm(tokenized, vocabulary))\n",
    "monster = vocabulary.index('good')\n",
    "blood = vocabulary.index('bad')\n",
    "\n",
    "good_counts = document_term_matrix[:, monster]\n",
    "bad_counts = document_term_matrix[:, blood]\n",
    "print(\"good: \" + str(good_counts))\n",
    "print(\"bad: \" + str(bad_counts))"
   ],
   "outputs": [
    {
     "output_type": "stream",
     "name": "stdout",
     "text": [
      "good: [ 36 101 178]\n",
      "bad: [ 3 17 29]\n"
     ]
    }
   ],
   "metadata": {}
  },
  {
   "cell_type": "code",
   "execution_count": 15,
   "source": [
    "import matplotlib.pyplot as plt\n",
    "\n",
    "x = np.arange(len(titles))\n",
    "width = 0.3\n",
    "\n",
    "fig, ax = plt.subplots()\n",
    "rects1 = ax.bar(x - width/2, good_counts, width, label='Good')\n",
    "rects2 = ax.bar(x + width/2, bad_counts, width, label='Bad')\n",
    "\n",
    "ax.set_ylabel('Word Count')\n",
    "ax.set_title('Frequency of \"Good & Bad\" in international Fairy Tales')\n",
    "ax.set_xticks(x)\n",
    "ax.set_xticklabels(titles)\n",
    "ax.legend()\n",
    "\n",
    "fig.tight_layout()\n",
    "\n",
    "plt.show()"
   ],
   "outputs": [
    {
     "output_type": "display_data",
     "data": {
      "image/png": "[encoded data removed]",
      "text/plain": [
       "<Figure size 432x288 with 1 Axes>"
      ]
     },
     "metadata": {
      "needs_background": "light"
     }
    }
   ],
   "metadata": {}
  },
  {
   "cell_type": "markdown",
   "source": [
    "# Step Five: Calculate the Euclidean distance between the documents, using two key words as the point of comparison"
   ],
   "metadata": {}
  },
  {
   "cell_type": "code",
   "execution_count": 19,
   "source": [
    "#define the terms for each array\n",
    "\n",
    "american = np.array([good_counts[0], bad_counts[0]])\n",
    "japanese = np.array([good_counts[1], bad_counts[1]])\n",
    "russian = np.array([good_counts[2], bad_counts[2]])"
   ],
   "outputs": [],
   "metadata": {}
  },
  {
   "cell_type": "code",
   "execution_count": 21,
   "source": [
    "def euclidean_distance(a, b):\n",
    "    \"\"\"Compute the Euclidean distance between two vectors.\n",
    "\n",
    "    Note: ``numpy.linalg.norm(a - b)`` performs the\n",
    "    same calculation using a slightly faster method.\n",
    "\n",
    "    Arguments:\n",
    "        a (numpy.ndarray): a vector of floats or ints.\n",
    "        b (numpy.ndarray): a vector of floats or ints.\n",
    "\n",
    "    Returns:\n",
    "        float: The euclidean distance between vector a and b.\n",
    "\n",
    "    Examples:\n",
    "        >>> import numpy as np\n",
    "        >>> a = np.array([1, 4, 2, 8])\n",
    "        >>> b = np.array([2, 1, 4, 7])\n",
    "        >>> round(euclidean_distance(a, b), 2)\n",
    "        3.87\n",
    "\n",
    "    \"\"\"\n",
    "    return np.sqrt(np.sum((a - b) ** 2))\n",
    "\n",
    "americanjapanese = euclidean_distance(american, japanese)\n",
    "print(f'American - Japanese: {americanjapanese:.2f}')\n",
    "\n",
    "americanrussian = euclidean_distance(american, russian)\n",
    "print(f'American - Russian: {americanrussian:.2f}')\n",
    "\n",
    "japaneserussian = euclidean_distance(japanese, russian)\n",
    "print(f'Jananese - Russian: {japaneserussian:.2f}')\n"
   ],
   "outputs": [
    {
     "output_type": "stream",
     "name": "stdout",
     "text": [
      "American - Japanese: 66.49\n",
      "American - Russian: 144.36\n",
      "Jananese - Russian: 77.93\n"
     ]
    }
   ],
   "metadata": {}
  }
 ],
 "metadata": {
  "orig_nbformat": 4,
  "language_info": {
   "name": "python",
   "version": "3.8.11",
   "mimetype": "text/x-python",
   "codemirror_mode": {
    "name": "ipython",
    "version": 3
   },
   "pygments_lexer": "ipython3",
   "nbconvert_exporter": "python",
   "file_extension": ".py"
  },
  "kernelspec": {
   "name": "python3",
   "display_name": "Python 3.8.11 64-bit ('base': conda)"
  },
  "interpreter": {
   "hash": "a3bce285177441cdc767e3a9c4ffb6c946df65ec3625de136fb9d1815a6425f2"
  }
 },
 "nbformat": 4,
 "nbformat_minor": 2
}