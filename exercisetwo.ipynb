{
 "cells": [
  {
   "cell_type": "code",
   "execution_count": 1,
   "source": [
    "import urllib.request, urllib.error, urllib.parse\n",
    "\n",
    "url = 'https://www.goodreads.com/book/show/28648863-juliet-takes-a-breath'\n",
    "\n",
    "response = urllib.request.urlopen(url)\n",
    "webContent = response.read()\n",
    "\n",
    "print(webContent[0:1000])"
   ],
   "outputs": [
    {
     "output_type": "stream",
     "name": "stdout",
     "text": [
      "b'<!DOCTYPE html>\\n<html class=\"desktop\\n\">\\n<head prefix=\"og: http://ogp.me/ns# fb: http://ogp.me/ns/fb# good_reads: http://ogp.me/ns/fb/good_reads#\">\\n  <title>Juliet Takes a Breath by Gabby Rivera</title>\\n\\n<meta content=\"Juliet Takes a Breath book. Read 2,130 reviews from the world\\'s largest community for readers. Juliet Milagros Palante is leaving the Bronx and headed to...\" name=\\'description\\'>\\n<meta content=\\'telephone=no\\' name=\\'format-detection\\'>\\n<link href=\\'https://www.goodreads.com/book/show/28648863-juliet-takes-a-breath\\' rel=\\'canonical\\'>\\n    <meta content=\\'2415071772\\' property=\\'fb:app_id\\'>\\n<meta content=\\'books.book\\' property=\\'og:type\\'>\\n<meta content=\\'Juliet Takes a Breath\\' property=\\'og:title\\'>\\n<meta content=\\'Juliet Milagros Palante is leaving the Bronx and headed to Portland, Oregon. She just came out to her family and isn\\xe2\\x80\\x99t sure if her mom wi...\\' property=\\'og:description\\'>\\n<meta content=\\'https://i.gr-assets.com/images/S/compressed.photo.goodreads.com/books/1453334587i/28648863._U'\n"
     ]
    }
   ],
   "metadata": {}
  },
  {
   "cell_type": "code",
   "execution_count": 2,
   "source": [
    "url = 'https://www.goodreads.com/book/show/28648863-juliet-takes-a-breath'\n",
    "\n",
    "response = urllib.request.urlopen(url)\n",
    "webContent = response.read()\n",
    "\n",
    "f = open('juliettakesabreath.html', 'wb')\n",
    "f.write(webContent)\n",
    "f.close()"
   ],
   "outputs": [],
   "metadata": {}
  },
  {
   "cell_type": "code",
   "execution_count": 4,
   "source": [
    "url = 'https://www.goodreads.com/topic/show/21693547-rainbow-reads-book-juliet-takes-a-breath'\n",
    "\n",
    "response = urllib.request.urlopen(url)\n",
    "webContent = response.read()\n",
    "\n",
    "f = open('juliettakesabreath.html', 'ab')\n",
    "f.write(webContent)\n",
    "f.close()"
   ],
   "outputs": [],
   "metadata": {}
  },
  {
   "cell_type": "code",
   "execution_count": 9,
   "source": [
    "f = open('juliettakesabreath.html','r')\n",
    "message = f.read()\n",
    "print(message[1000:5000])\n",
    "f.close()"
   ],
   "outputs": [
    {
     "output_type": "stream",
     "name": "stdout",
     "text": [
      "30_SR1200,630_.jpg' property='og:image'>\n",
      "<meta content='https://www.goodreads.com/work/best_book/48836658-juliet-takes-a-breath' property='og:url'>\n",
      "<meta content='https://www.goodreads.com/author/show/14889581.Gabby_Rivera' property='books:author'>\n",
      "<meta content='null' property='books:isbn'>\n",
      "<meta content='276' property='books:page_count'>\n",
      "<meta content='Goodreads' property='al:ios:app_name'>\n",
      "<meta content='355833469' property='al:ios:app_store_id'>\n",
      "<meta content='com.goodreads.https://book/show/28648863' property='al:ios:url'>\n",
      "\n",
      "        <link rel=\"alternate\" href=\"https://www.goodreads.com/en/book/show/28648863\" hreflang=\"en\"/>\n",
      "    <link rel=\"alternate\" href=\"https://www.goodreads.com/it/book/show/28648863\" hreflang=\"it\"/>\n",
      "    <link rel=\"alternate\" href=\"https://www.goodreads.com/es/book/show/28648863\" hreflang=\"es\"/>\n",
      "    <link rel=\"alternate\" href=\"https://www.goodreads.com/sl/book/show/28648863\" hreflang=\"sl\"/>\n",
      "    <link rel=\"alternate\" href=\"https://www.goodreads.com/de/book/show/28648863\" hreflang=\"de\"/>\n",
      "    <link rel=\"alternate\" href=\"https://www.goodreads.com/et/book/show/28648863\" hreflang=\"et\"/>\n",
      "    <link rel=\"alternate\" href=\"https://www.goodreads.com/pt/book/show/28648863\" hreflang=\"pt\"/>\n",
      "\n",
      "\n",
      "    <link rel=\"alternate\" href=\"android-app://com.goodreads/https/www.goodreads.com/book/show/28648863-juliet-takes-a-breath\">\n",
      "\n",
      "          <link rel=\"next\" href=\"https://www.goodreads.com/book/show/28648863-juliet-takes-a-breath?page=2\">\n",
      "\n",
      "\n",
      "\n",
      "    <script type=\"text/javascript\"> var ue_t0=window.ue_t0||+new Date();\n",
      " </script>\n",
      "  <script type=\"text/javascript\">\n",
      "    var ue_mid = \"A1PQBFHBHS6YH1\";\n",
      "    var ue_sn = \"www.goodreads.com\";\n",
      "    var ue_furl = \"fls-na.amazon.com\";\n",
      "    var ue_sid = \"681-1632657-0707190\";\n",
      "    var ue_id = \"9MH59EQFB0WH2NSQMDSX\";\n",
      "\n",
      "    (function(e){var c=e;var a=c.ue||{};a.main_scope=\"mainscopecsm\";a.q=[];a.t0=c.ue_t0||+new Date();a.d=g;function g(h){return +new Date()-(h?0:a.t0)}function d(h){return function(){a.q.push({n:h,a:arguments,t:a.d()})}}function b(m,l,h,j,i){var k={m:m,f:l,l:h,c:\"\"+j,err:i,fromOnError:1,args:arguments};c.ueLogError(k);return false}b.skipTrace=1;e.onerror=b;function f(){c.uex(\"ld\")}if(e.addEventListener){e.addEventListener(\"load\",f,false)}else{if(e.attachEvent){e.attachEvent(\"onload\",f)}}a.tag=d(\"tag\");a.log=d(\"log\");a.reset=d(\"rst\");c.ue_csm=c;c.ue=a;c.ueLogError=d(\"err\");c.ues=d(\"ues\");c.uet=d(\"uet\");c.uex=d(\"uex\");c.uet(\"ue\")})(window);(function(e,d){var a=e.ue||{};function c(g){if(!g){return}var f=d.head||d.getElementsByTagName(\"head\")[0]||d.documentElement,h=d.createElement(\"script\");h.async=\"async\";h.src=g;f.insertBefore(h,f.firstChild)}function b(){var k=e.ue_cdn||\"z-ecx.images-amazon.com\",g=e.ue_cdns||\"images-na.ssl-images-amazon.com\",j=\"/images/G/01/csminstrumentation/\",h=e.ue_file||\"ue-full-11e51f253e8ad9d145f4ed644b40f692._V1_.js\",f,i;if(h.indexOf(\"NSTRUMENTATION_FIL\")>=0){return}if(\"ue_https\" in e){f=e.ue_https}else{f=e.location&&e.location.protocol==\"https:\"?1:0}i=f?\"https://\":\"http://\";i+=f?g:k;i+=j;i+=h;c(i)}if(!e.ue_inline){if(a.loadUEFull){a.loadUEFull()}else{b()}}a.uels=c;e.ue=a})(window,document);\n",
      "\n",
      "    if (window.ue && window.ue.tag) { window.ue.tag('book:show:signed_out', ue.main_scope);window.ue.tag('book:show:signed_out:desktop', ue.main_scope); }\n",
      "  </script>\n",
      "\n",
      "  <!-- * Copied from https://info.analytics.a2z.com/#/docs/data_collection/csa/onboard */ -->\n",
      "<script>\n",
      "  //<![CDATA[\n",
      "    !function(){function n(n,t){var r=i(n);return t&&(r=r(\"instance\",t)),r}var r=[],c=0,i=function(t){return function(){var n=c++;return r.push([t,[].slice.call(arguments,0),n,{time:Date.now()}]),i(n)}};n._s=r,this.csa=n}();\n",
      "    \n",
      "    if (window.csa) {\n",
      "      window.csa(\"Config\", {\n",
      "        \"Application\": \"GoodreadsMonolith\",\n",
      "        \"Events.SushiEndpoint\": \"https://unagi.amazon.com/1/events/com.amazon.csm.csa.prod\",\n",
      "        \"Events.Namespace\": \"csa\",\n",
      "        \"CacheDetection.RequestID\": \"F5F5SXFBSHCZ8EV3Y5VJ\",\n",
      "        \"ObfuscatedMarketplaceId\": \"A1PQBFHBHS6YH1\"\n",
      "      });\n",
      "    \n",
      "      window.csa(\"Events\")(\n"
     ]
    }
   ],
   "metadata": {}
  },
  {
   "cell_type": "code",
   "execution_count": 10,
   "source": [
    "#Count and print the occurences of a key word\n",
    "#get file object reference to the file\n",
    "file = open('juliettakesabreath.html', 'r')\n",
    "\n",
    "#read content of file to string\n",
    "data = file.read()\n",
    "\n",
    "#get number of occurrences of the substring in the string\n",
    "occurrences = data.count(\"white\")\n",
    "print('Number of occurrences of the word :', occurrences)"
   ],
   "outputs": [
    {
     "output_type": "stream",
     "name": "stdout",
     "text": [
      "Number of occurrences of the word : 55\n"
     ]
    }
   ],
   "metadata": {}
  },
  {
   "cell_type": "code",
   "execution_count": 23,
   "source": [
    "#Split your dataset into strings based on word spacing, and print some of the words to view the set\n",
    "#reference file and data for string\n",
    "file = open('juliettakesabreath.html', 'r')\n",
    "data = file.read()\n",
    "our_string = data\n",
    "\n",
    "#split string?\n",
    "split_string = our_string.split(\" \")\n",
    "print(split_string[11])\n"
   ],
   "outputs": [
    {
     "output_type": "stream",
     "name": "stdout",
     "text": [
      "Takes\n"
     ]
    }
   ],
   "metadata": {}
  },
  {
   "cell_type": "code",
   "execution_count": 33,
   "source": [
    "# Locate the index of a word of interest, then print the phrase surrounding it\n",
    "print(\"Index of rican: \" + str(our_string.index(\"rican\")))\n",
    "print(\"Slice from index 3 to 8: \" + our_string[500:1000])"
   ],
   "outputs": [
    {
     "output_type": "stream",
     "name": "stdout",
     "text": [
      "Index of rican: 177524\n",
      "Slice from index 3 to 8: 648863-juliet-takes-a-breath' rel='canonical'>\n",
      "    <meta content='2415071772' property='fb:app_id'>\n",
      "<meta content='books.book' property='og:type'>\n",
      "<meta content='Juliet Takes a Breath' property='og:title'>\n",
      "<meta content='Juliet Milagros Palante is leaving the Bronx and headed to Portland, Oregon. She just came out to her family and isn’t sure if her mom wi...' property='og:description'>\n",
      "<meta content='https://i.gr-assets.com/images/S/compressed.photo.goodreads.com/books/1453334587i/28648863._UY6\n"
     ]
    }
   ],
   "metadata": {}
  },
  {
   "cell_type": "code",
   "execution_count": 53,
   "source": [
    "occurrences = data.count(\"white\")\n",
    "print('Number of occurrences of the word white:', occurrences)\n",
    "occurrences = data.count(\"latin\")\n",
    "print('Number of occurrences of the word latin:', occurrences)\n",
    "\n",
    "if (data.count(\"white\") > data.count(\"latin\")):\n",
    "    print(\"white majority perspective\")\n",
    "else: \n",
    "    print(\"balanced perspective\")"
   ],
   "outputs": [
    {
     "output_type": "stream",
     "name": "stdout",
     "text": [
      "Number of occurrences of the word white: 55\n",
      "Number of occurrences of the word latin: 22\n",
      "white majority perspective\n"
     ]
    }
   ],
   "metadata": {}
  },
  {
   "cell_type": "code",
   "execution_count": 56,
   "source": [
    "str3= \"hispanic\"\n",
    "\n",
    "if (str3 in data):\n",
    "    print(\"In document\")\n",
    "else: \n",
    "    print(\"Not in document\")"
   ],
   "outputs": [
    {
     "output_type": "stream",
     "name": "stdout",
     "text": [
      "Not in document\n"
     ]
    }
   ],
   "metadata": {}
  }
 ],
 "metadata": {
  "orig_nbformat": 4,
  "language_info": {
   "name": "python",
   "version": "3.8.11",
   "mimetype": "text/x-python",
   "codemirror_mode": {
    "name": "ipython",
    "version": 3
   },
   "pygments_lexer": "ipython3",
   "nbconvert_exporter": "python",
   "file_extension": ".py"
  },
  "kernelspec": {
   "name": "python3",
   "display_name": "Python 3.8.11 64-bit ('base': conda)"
  },
  "interpreter": {
   "hash": "a3bce285177441cdc767e3a9c4ffb6c946df65ec3625de136fb9d1815a6425f2"
  }
 },
 "nbformat": 4,
 "nbformat_minor": 2
}