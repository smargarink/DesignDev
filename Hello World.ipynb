{
 "cells": [
  {
   "cell_type": "code",
   "execution_count": 4,
   "id": "548c2d0e",
   "metadata": {},
   "outputs": [
    {
     "name": "stdout",
     "output_type": "stream",
     "text": [
      "Sup, nerds!\n"
     ]
    }
   ],
   "source": [
    "print(\"Sup, nerds!\")"
   ]
  },
  {
   "cell_type": "code",
   "execution_count": 6,
   "id": "0d6eaeb1",
   "metadata": {},
   "outputs": [
    {
     "name": "stdout",
     "output_type": "stream",
     "text": [
      "sup, nerds!\n",
      "What did your mom pack me for lunch today?\n"
     ]
    }
   ],
   "source": [
    "print(\"sup, nerds!\\nWhat did your mom pack me for lunch today?\")"
   ]
  },
  {
   "cell_type": "code",
   "execution_count": 3,
   "id": "b55a1e01",
   "metadata": {},
   "outputs": [
    {
     "name": "stdout",
     "output_type": "stream",
     "text": [
      "2 + 2 is 4\n",
      "3 * 4 is 12\n",
      "100 - 1 is 99\n",
      "(33 + 2) / 5 + 11.5 is 18.5\n"
     ]
    }
   ],
   "source": [
    "print(\"2 + 2 is\", 2 + 2)\n",
    "print(\"3 * 4 is\", 3 * 4)\n",
    "print(\"100 - 1 is\", 100 - 1)\n",
    "print(\"(33 + 2) / 5 + 11.5 is\", (33 + 2) / 5 + 11.5)"
   ]
  },
  {
   "cell_type": "code",
   "execution_count": null,
   "id": "795541aa",
   "metadata": {},
   "outputs": [],
   "source": []
  }
 ],
 "metadata": {
  "kernelspec": {
   "display_name": "Python 3",
   "language": "python",
   "name": "python3"
  },
  "language_info": {
   "codemirror_mode": {
    "name": "ipython",
    "version": 3
   },
   "file_extension": ".py",
   "mimetype": "text/x-python",
   "name": "python",
   "nbconvert_exporter": "python",
   "pygments_lexer": "ipython3",
   "version": "3.8.11"
  }
 },
 "nbformat": 4,
 "nbformat_minor": 5
}
